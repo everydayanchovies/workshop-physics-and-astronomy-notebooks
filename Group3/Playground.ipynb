{
 "cells": [
  {
   "cell_type": "markdown",
   "id": "1489f22b-bbac-47c5-83dc-994715cb83e3",
   "metadata": {
    "tags": []
   },
   "source": [
    "# Prep"
   ]
  },
  {
   "cell_type": "code",
   "execution_count": 31,
   "id": "58baf71f-7743-4ea6-b6d5-da5404c5b39e",
   "metadata": {},
   "outputs": [
    {
     "name": "stdout",
     "output_type": "stream",
     "text": [
      "Playground notebook\n"
     ]
    }
   ],
   "source": [
    "print(\"Playground notebook\")"
   ]
  },
  {
   "cell_type": "code",
   "execution_count": 229,
   "id": "1a666922-eaf6-4a81-ade0-b1a72c768252",
   "metadata": {},
   "outputs": [],
   "source": [
    "%notebook inline"
   ]
  },
  {
   "cell_type": "code",
   "execution_count": 230,
   "id": "fae4a116-cef9-41dd-b56c-402cface7d81",
   "metadata": {},
   "outputs": [],
   "source": [
    "from pymatgen.electronic_structure.boltztrap2 import *\n",
    "from monty.serialization import loadfn\n",
    "from pymatgen.electronic_structure.plotter import BSPlotter\n",
    "from pymatgen.electronic_structure.plotter import DosPlotter\n",
    "\n",
    "import matplotlib\n",
    "orig_mpl_backend = plt.get_backend()\n",
    "orig_mpl_backend = 'agg'\n",
    "matplotlib.use('pgf')\n",
    "plt.rcParams.update({\n",
    "    \"font.family\": \"serif\",  # use serif/main font for text elements\n",
    "    \"text.usetex\": True,     # use inline math for ticks\n",
    "    \"pgf.rcfonts\": False,    # don't setup fonts from rc parameters\n",
    "    \"pgf.preamble\": \"\\n\".join([\n",
    "         r\"\\usepackage{unicode-math}\",   # unicode math setup\n",
    "    ])\n",
    "})"
   ]
  },
  {
   "cell_type": "code",
   "execution_count": 254,
   "id": "f69a3942-111d-428b-bb52-c1e728b2e593",
   "metadata": {},
   "outputs": [],
   "source": [
    "def fp_for_element(el):\n",
    "    el = el.replace(' ', '_')\n",
    "    if '-' in el:\n",
    "        a, b = el.split('-')\n",
    "        return f'{a}-defect-data/{b}/'\n",
    "    \n",
    "    return f'{el}/'"
   ]
  },
  {
   "cell_type": "code",
   "execution_count": 247,
   "id": "518b2c1a-da0f-421e-b0f7-5a9e8a35ecbb",
   "metadata": {},
   "outputs": [],
   "source": [
    "elements = {\n",
    "    'Mo3Si2': ['MoSi', 'SiMo', 'VMo', 'VSi'],\n",
    "    # 'MoSi2': ['MoSi', 'SiMo', 'VMo', 'VSi'],\n",
    "    'MoSi2 tetragonal': [],\n",
    "    'MoSi2 hexagonal': [],\n",
    "}"
   ]
  },
  {
   "cell_type": "code",
   "execution_count": 248,
   "id": "2b08dcd5-f35b-4268-8cb9-09350f7660c5",
   "metadata": {},
   "outputs": [],
   "source": [
    "# deviation from Fermi energy in eV\n",
    "energy_range = 1.5\n",
    "temp_r = np.arange(300,1300,300)\n",
    "temps = [300, 600, 900, 1200]\n",
    "dopings_r = 10.**np.arange(18,26,0.25)\n",
    "dopings_arr = [1e22, 1e23]\n",
    "doping_type = 'p'\n",
    "\n",
    "save_to_disk = False\n",
    "load_from_disk = not save_to_disk\n",
    "\n",
    "partial_dos = False"
   ]
  },
  {
   "cell_type": "code",
   "execution_count": 94,
   "id": "78dcf933-0e96-4f5c-88e2-bada822d0984",
   "metadata": {},
   "outputs": [],
   "source": [
    "class MyBztPlotter(BztPlotter):\n",
    "    def plot_props(\n",
    "        self,\n",
    "        prop_y,\n",
    "        prop_x,\n",
    "        prop_z=\"temp\",\n",
    "        output=\"avg_eigs\",\n",
    "        dop_type=\"n\",\n",
    "        doping=None,\n",
    "        temps=None,\n",
    "        xlim=(-2, 2),\n",
    "        ax=None,\n",
    "        label=\"\",\n",
    "        linestyle=\"solid\",\n",
    "        marker=\"o\",\n",
    "        markevery=1,\n",
    "        color=\"b\",\n",
    "    ):\n",
    "        \"\"\"\n",
    "        Function to plot the transport properties.\n",
    "        Args:\n",
    "            prop_y: property to plot among (\"Conductivity\",\"Seebeck\",\"Kappa\",\"Carrier_conc\",\n",
    "                \"Hall_carrier_conc_trace\"). Abbreviations are possible, like \"S\" for \"Seebeck\"\n",
    "            prop_x: independent variable in the x-axis among ('mu','doping','temp')\n",
    "            prop_z: third variable to plot multiple curves ('doping','temp')\n",
    "            output: 'avg_eigs' to plot the average of the eigenvalues of the properties\n",
    "                tensors; 'eigs' to plot the three eigenvalues of the properties\n",
    "                tensors.\n",
    "            dop_type: 'n' or 'p' to specify the doping type in plots that use doping\n",
    "                levels as prop_x or prop_z\n",
    "            doping: list of doping level to plot, useful to reduce the number of curves\n",
    "                when prop_z='doping'\n",
    "            temps: list of temperatures to plot, useful to reduce the number of curves\n",
    "                when prop_z='temp'\n",
    "            xlim: chemical potential range in eV, useful when prop_x='mu'\n",
    "            ax: figure.axes where to plot. If None, a new figure is produced.\n",
    "        Example:\n",
    "        bztPlotter.plot_props('S','mu','temp',temps=[600,900,1200]).show()\n",
    "        more example are provided in the notebook\n",
    "        \"How to use Boltztra2 interface.ipynb\".\n",
    "        \"\"\"\n",
    "        props = (\n",
    "            \"Conductivity\",\n",
    "            \"Seebeck\",\n",
    "            \"Kappa\",\n",
    "            \"Effective_mass\",\n",
    "            \"Power_Factor\",\n",
    "            \"Carrier_conc\",\n",
    "            \"Hall_carrier_conc_trace\",\n",
    "        )\n",
    "        props_lbl = (\n",
    "            \"Conductivity\",\n",
    "            \"Seebeck\",\n",
    "            \"$K_{el}$\",\n",
    "            \"Effective mass\",\n",
    "            \"Power Factor\",\n",
    "            \"Carrier concentration\",\n",
    "            \"Hall carrier conc.\",\n",
    "        )\n",
    "        props_unit = (\n",
    "            r\"$(\\mathrm{S\\,m^{-1}})$\",\n",
    "            r\"($\\mu$V/K)\",\n",
    "            r\"$(W / (m \\cdot K))$\",\n",
    "            r\"$(m_e)$\",\n",
    "            r\"$( mW / (m\\cdot K^2)$\",\n",
    "            r\"$(cm^{-3})$\",\n",
    "            r\"$(cm^{-3})$\",\n",
    "        )\n",
    "\n",
    "        props_short = [p[: len(prop_y)] for p in props]\n",
    "\n",
    "        if prop_y not in props_short:\n",
    "            raise BoltztrapError(\"prop_y not valid\")\n",
    "\n",
    "        if prop_x not in (\"mu\", \"doping\", \"temp\"):\n",
    "            raise BoltztrapError(\"prop_x not valid\")\n",
    "\n",
    "        if prop_z not in (\"doping\", \"temp\"):\n",
    "            raise BoltztrapError(\"prop_z not valid\")\n",
    "\n",
    "        idx_prop = props_short.index(prop_y)\n",
    "\n",
    "        leg_title = \"\"\n",
    "\n",
    "        mu = self.bzt_transP.mu_r_eV\n",
    "\n",
    "        if prop_z == \"doping\" and prop_x == \"temp\":\n",
    "            p_array = eval(\"self.bzt_transP.\" + props[idx_prop] + \"_\" + prop_z)\n",
    "        else:\n",
    "            p_array = eval(\"self.bzt_transP.\" + props[idx_prop] + \"_\" + prop_x)\n",
    "\n",
    "        if ax is None:\n",
    "            plt.figure(figsize=(10, 8))\n",
    "\n",
    "        temps_all = self.bzt_transP.temp_r.tolist()\n",
    "        if temps is None:\n",
    "            temps = self.bzt_transP.temp_r.tolist()\n",
    "\n",
    "        if isinstance(self.bzt_transP.doping, np.ndarray):\n",
    "            doping_all = self.bzt_transP.doping.tolist()\n",
    "            if doping is None:\n",
    "                doping = doping_all\n",
    "\n",
    "        # special case of carrier and hall carrier concentration 2d arrays (temp,mu)\n",
    "        if idx_prop in [5, 6]:\n",
    "            if prop_z == \"temp\" and prop_x == \"mu\":\n",
    "                for temp in temps:\n",
    "                    ti = temps_all.index(temp)\n",
    "                    prop_out = p_array[ti] if idx_prop == 6 else np.abs(p_array[ti])\n",
    "                    plt.semilogy(mu, prop_out, label=label + \": \" + str(temp) + \" K\", linestyle=linestyle, marker=marker, markevery=markevery, color=color)\n",
    "\n",
    "                plt.xlabel(r\"$\\mu$ (eV)\", fontsize=30)\n",
    "                plt.xlim(xlim)\n",
    "            else:\n",
    "                raise BoltztrapError(\n",
    "                    \"only prop_x=mu and prop_z=temp are \\\n",
    "                    available for c.c. and Hall c.c.!\"\n",
    "                )\n",
    "\n",
    "        elif prop_z == \"temp\" and prop_x == \"mu\":\n",
    "            for temp in temps:\n",
    "                ti = temps_all.index(temp)\n",
    "                prop_out = np.linalg.eigh(p_array[ti])[0]\n",
    "                if output == \"avg_eigs\":\n",
    "                    plt.plot(mu, prop_out.mean(axis=1), label=label + \": \" + str(temp) + \" K\", linestyle=linestyle, marker=marker, markevery=markevery, color=color)\n",
    "                elif output == \"eigs\":\n",
    "                    for i in range(3):\n",
    "                        plt.plot(\n",
    "                            mu,\n",
    "                            prop_out[:, i],\n",
    "                            label=label + \": \" + \"eig \" + str(i) + \" \" + str(temp) + \" K\", linestyle=linestyle, marker=marker, markevery=markevery, color=color\n",
    "                        )\n",
    "\n",
    "            plt.xlabel(r\"$\\mu$ (eV)\", fontsize=30)\n",
    "            plt.xlim(xlim)\n",
    "\n",
    "        elif prop_z == \"temp\" and prop_x == \"doping\":\n",
    "            for temp in temps:\n",
    "                ti = temps_all.index(temp)\n",
    "                prop_out = np.linalg.eigh(p_array[dop_type][ti])[0]\n",
    "                if output == \"avg_eigs\":\n",
    "                    plt.semilogx(doping_all, prop_out.mean(axis=1), label=label + \": \" + str(temp) + \" K\", linestyle=linestyle, marker=marker, color=color)\n",
    "                elif output == \"eigs\":\n",
    "                    for i in range(3):\n",
    "                        plt.plot(\n",
    "                            doping_all,\n",
    "                            prop_out[:, i],\n",
    "                            label=label + \": \" + \"eig \" + str(i) + \" \" + str(temp) + \" K\", linestyle=linestyle, marker=marker, markevery=markevery, color=color\n",
    "                        )\n",
    "            plt.xlabel(r\"Carrier conc. $cm^{-3}$\", fontsize=30)\n",
    "            leg_title = dop_type + \"-type\"\n",
    "\n",
    "        elif prop_z == \"doping\" and prop_x == \"temp\":\n",
    "            for dop in doping:\n",
    "                di = doping_all.index(dop)\n",
    "                prop_out = np.linalg.eigh(p_array[dop_type][:, di])[0]\n",
    "                if output == \"avg_eigs\":\n",
    "                    plt.plot(\n",
    "                        temps_all,\n",
    "                        prop_out.mean(axis=1),\n",
    "                        label=label + \": \" + str(dop) + \" $cm^{-3}$\", linestyle=linestyle, marker=marker, markevery=markevery, color=color\n",
    "                    )\n",
    "                elif output == \"eigs\":\n",
    "                    for i in range(3):\n",
    "                        plt.plot(\n",
    "                            temps_all,\n",
    "                            prop_out[:, i],\n",
    "                            label=label + \": \" + \"eig \" + str(i) + \" \" + str(dop) + \" $cm^{-3}$\", linestyle=linestyle, marker=marker, markevery=markevery, color=color\n",
    "                        )\n",
    "\n",
    "            plt.xlabel(r\"Temperature (K)\", fontsize=30)\n",
    "            leg_title = dop_type + \"-type\"\n",
    "\n",
    "        plt.ylabel(props_lbl[idx_prop] + \" \" + props_unit[idx_prop], fontsize=30)\n",
    "        plt.xticks(fontsize=25)\n",
    "        plt.yticks(fontsize=25)\n",
    "        plt.legend(title=leg_title, fontsize=15)\n",
    "        plt.tight_layout()\n",
    "        plt.grid()\n",
    "        return plt"
   ]
  },
  {
   "cell_type": "code",
   "execution_count": 256,
   "id": "82403950-c8d3-43c4-a304-06f72e33ae1d",
   "metadata": {},
   "outputs": [
    {
     "name": "stderr",
     "output_type": "stream",
     "text": [
      "/Users/max/opt/anaconda3/envs/boltztrap2/lib/python3.9/site-packages/pymatgen/io/vasp/inputs.py:1732: UserWarning: Ignoring unknown variable type SHA256\n",
      "  warnings.warn(f\"Ignoring unknown variable type {key}\")\n",
      "/Users/max/opt/anaconda3/envs/boltztrap2/lib/python3.9/site-packages/pymatgen/io/vasp/inputs.py:1732: UserWarning: Ignoring unknown variable type COPYR\n",
      "  warnings.warn(f\"Ignoring unknown variable type {key}\")\n"
     ]
    }
   ],
   "source": [
    "def gather_element_data(el):\n",
    "    vrun = Vasprun(f'{fp_for_element(el)}vasprun.xml', parse_projected_eigen=True)\n",
    "    data = VasprunBSLoader(vrun)\n",
    "    \n",
    "    if save_to_disk:\n",
    "        bztInterp = BztInterpolator(data,lpfac=10,energy_range=energy_range,curvature=True,save_bztInterp=True, fname=f'{fp_for_element(el)}bztInterp.json.gz')\n",
    "    elif load_from_disk:\n",
    "        bztInterp = BztInterpolator(data, load_bztInterp=True, fname=f'{fp_for_element(el)}bztInterp.json.gz')\n",
    "        \n",
    "    if save_to_disk:\n",
    "        bztTransp = BztTransportProperties(bztInterp, temp_r=temp_r, doping=dopings_r, save_bztTranspProps=True, fname=f'{fp_for_element(el)}bztTranspProps.json.gz')\n",
    "    elif load_from_disk:\n",
    "        bztTransp = BztTransportProperties(bztInterp, load_bztTranspProps=True, fname=f'{fp_for_element(el)}bztTranspProps.json.gz')\n",
    "        \n",
    "    bztTransp.compute_properties_doping(doping=dopings_r)\n",
    "    \n",
    "    bztPlotter = MyBztPlotter(bztTransp,bztInterp)\n",
    "    \n",
    "    return {\n",
    "        'data': data,\n",
    "        'interp': bztInterp,\n",
    "        'transp': bztTransp,\n",
    "        'plotter': bztPlotter\n",
    "    }\n",
    "\n",
    "element_data = {}\n",
    "for k, v in elements.items():\n",
    "    for defect_name in v:\n",
    "        el_data = gather_element_data(f'{k}-{defect_name}')\n",
    "        element_data[f'{k}-{defect_name}'] = el_data\n",
    "    \n",
    "    el_data = gather_element_data(k)\n",
    "    element_data[k] = el_data"
   ]
  },
  {
   "cell_type": "code",
   "execution_count": 227,
   "id": "707b6537-d6b4-4686-96b1-0a3c0dbca314",
   "metadata": {},
   "outputs": [],
   "source": [
    "def make_plt():\n",
    "    return plt.figure(figsize=(10, 8))\n",
    "\n",
    "def save_plt(ax, name):\n",
    "    matplotlib.use('pgf')\n",
    "    ax.savefig(f'figures/{name}.pdf', backend='pgf')\n",
    "    ax.close()"
   ]
  },
  {
   "cell_type": "markdown",
   "id": "7c44aaaf-fe93-4bba-8b6e-0482949298b3",
   "metadata": {
    "tags": []
   },
   "source": [
    "# Plots"
   ]
  },
  {
   "cell_type": "code",
   "execution_count": 113,
   "id": "f80b3860-e4e2-49e9-a85b-38333dadc1d4",
   "metadata": {},
   "outputs": [],
   "source": [
    "colors = ['#377eb8', '#ff7f00', '#4daf4a',\n",
    "           '#f781bf', '#a65628', '#984ea3',\n",
    "           '#999999', '#e41a1c', '#dede00']\n",
    "\n",
    "linestyles = [\n",
    "    ('solid', 'solid'),      # Same as (0, ()) or '-'\n",
    "     ('dotted', 'dotted'),    # Same as (0, (1, 1)) or ':'\n",
    "     ('dashed', 'dashed'),    # Same as '--'\n",
    "     ('dashdot', 'dashdot'),  # Same as '-.'\n",
    "     ('long dash with offset', (5, (10, 3))),\n",
    "     ('densely dashed',        (0, (5, 1))),\n",
    "\n",
    "     ('dashdotted',            (0, (3, 5, 1, 5))),\n",
    "     ('densely dashdotted',    (0, (3, 1, 1, 1))),\n",
    "\n",
    "     ('dashdotdotted',         (0, (3, 5, 1, 5, 1, 5))),\n",
    "     ('loosely dashdotdotted', (0, (3, 10, 1, 10, 1, 10))),\n",
    "     ('densely dashdotdotted', (0, (3, 1, 1, 1, 1, 1)))]\n",
    "\n",
    "markers = ['o', 'v', 's',\n",
    "          'X', 'd', '*',\n",
    "          '2', 'x', 'P']"
   ]
  },
  {
   "cell_type": "markdown",
   "id": "23be0159-3f15-4667-909f-4ba7c4fb38a5",
   "metadata": {
    "tags": []
   },
   "source": [
    "## Seebeck coefficient as function of..."
   ]
  },
  {
   "cell_type": "code",
   "execution_count": 259,
   "id": "c59be87d-29d4-4463-9ae4-5ccfe53af98d",
   "metadata": {},
   "outputs": [],
   "source": [
    "ax = make_plt()\n",
    "for i, k in enumerate(element_data.keys()):\n",
    "    ax = element_data[k]['plotter'].plot_props('S','doping','temp',temps=temps[0:1],ax=ax,label=k,marker=markers[i],markevery=1450,color=colors[i],linestyle=linestyles[i][1])\n",
    "\n",
    "save_plt(ax, \"allmats_S_doping_temp\")"
   ]
  },
  {
   "cell_type": "code",
   "execution_count": 261,
   "id": "6038ea4f-cf13-4ad1-9b34-093fbe7605ce",
   "metadata": {},
   "outputs": [],
   "source": [
    "ax = make_plt()\n",
    "for i, k in enumerate(element_data.keys()):\n",
    "    ax = element_data[k]['plotter'].plot_props('S','temp','doping',doping=dopings_arr[:1], dop_type=doping_type,ax=ax,label=k,marker=markers[i],markevery=1,color=colors[i],linestyle=linestyles[i][1])\n",
    "\n",
    "save_plt(ax, \"allmats_S_temp_doping\")"
   ]
  },
  {
   "cell_type": "code",
   "execution_count": 262,
   "id": "55f83f15-3d93-4c0c-aa2d-f205a374c8ee",
   "metadata": {},
   "outputs": [],
   "source": [
    "ax = make_plt()\n",
    "for i, k in enumerate(element_data.keys()):\n",
    "    ax = element_data[k]['plotter'].plot_props('S','mu','temp',temps=temps[0:1],ax=ax,label=k,marker=markers[i],markevery=450,color=colors[i],linestyle=linestyles[i][1])\n",
    "\n",
    "save_plt(ax, \"allmats_S_mu_temp\")"
   ]
  },
  {
   "cell_type": "markdown",
   "id": "11a60307-8b89-4c5a-a634-516b51826390",
   "metadata": {
    "tags": []
   },
   "source": [
    "## Electronic conductivity as function of..."
   ]
  },
  {
   "cell_type": "code",
   "execution_count": 263,
   "id": "7d12cda6-ddd5-4bfb-9531-85de648bee4f",
   "metadata": {},
   "outputs": [],
   "source": [
    "ax = make_plt()\n",
    "for i, k in enumerate(element_data.keys()):\n",
    "    ax = element_data[k]['plotter'].plot_props('C','doping','temp',temps=temps[0:1],ax=ax,label=k,marker=markers[i],markevery=150,color=colors[i],linestyle=linestyles[i][1])\n",
    "\n",
    "save_plt(ax, \"allmats_C_doping_temp\")"
   ]
  },
  {
   "cell_type": "code",
   "execution_count": 265,
   "id": "636c4f9e-2c1d-4a0e-b2f1-4118e8467261",
   "metadata": {},
   "outputs": [],
   "source": [
    "ax = make_plt()\n",
    "for i, k in enumerate(element_data.keys()):\n",
    "    ax = element_data[k]['plotter'].plot_props('C','temp','doping',doping=dopings_arr[:1], dop_type=doping_type,ax=ax,label=k,marker=markers[i],markevery=50,color=colors[i],linestyle=linestyles[i][1])\n",
    "\n",
    "save_plt(ax, \"allmats_C_temp_doping\")"
   ]
  },
  {
   "cell_type": "code",
   "execution_count": 266,
   "id": "ba34ef26-7842-4316-a9b6-b8104c1c9aed",
   "metadata": {},
   "outputs": [],
   "source": [
    "ax = make_plt()\n",
    "for i, k in enumerate(element_data.keys()):\n",
    "    ax = element_data[k]['plotter'].plot_props('C','mu','temp',temps=temps[0:1],ax=ax,label=k,marker=markers[i],markevery=550,color=colors[i],linestyle=linestyles[i][1])\n",
    "\n",
    "save_plt(ax, \"allmats_C_mu_temp\")"
   ]
  },
  {
   "cell_type": "markdown",
   "id": "1f2dd065-0762-4079-b691-63262b64631d",
   "metadata": {
    "tags": []
   },
   "source": [
    "## Power factor as function of..."
   ]
  },
  {
   "cell_type": "code",
   "execution_count": 169,
   "id": "076e3616-0bb3-4501-bfe9-a133cdf92863",
   "metadata": {},
   "outputs": [],
   "source": [
    "ax = make_plt()\n",
    "for i, k in enumerate(element_data.keys()):\n",
    "    ax = element_data[k]['plotter'].plot_props('Po','doping','temp',temps=temps[0:1],ax=ax,label=k,marker=markers[i],markevery=150,color=colors[i],linestyle=linestyles[i][1])\n",
    "\n",
    "save_plt(ax, \"allmats_Po_doping_temp\")"
   ]
  },
  {
   "cell_type": "code",
   "execution_count": 170,
   "id": "241c4133-a51d-41d9-a3da-1a98cfb28a9f",
   "metadata": {},
   "outputs": [],
   "source": [
    "ax = make_plt()\n",
    "for i, k in enumerate(element_data.keys()):\n",
    "    ax = element_data[k]['plotter'].plot_props('Po','temp','doping',doping=dopings_arr[:1], dop_type=doping_type,ax=ax,label=k,marker=markers[i],markevery=1,color=colors[i],linestyle=linestyles[i][1])\n",
    "\n",
    "save_plt(ax, \"allmats_Po_temp_doping\")"
   ]
  },
  {
   "cell_type": "code",
   "execution_count": 240,
   "id": "c22cf05f-24f5-4491-bfc6-36fd00920e16",
   "metadata": {},
   "outputs": [],
   "source": [
    "ax = make_plt()\n",
    "for i, k in enumerate(element_data.keys()):\n",
    "    ax = element_data[k]['plotter'].plot_props('Po','mu','temp',temps=temps[0:1],ax=ax,label=k,marker=markers[i],markevery=350,color=colors[i],linestyle=linestyles[i][1])\n",
    "\n",
    "save_plt(ax, \"Po_mu_temp\")"
   ]
  },
  {
   "cell_type": "markdown",
   "id": "7f063824-f518-4b5a-a8df-b566c0970a54",
   "metadata": {
    "jp-MarkdownHeadingCollapsed": true,
    "tags": []
   },
   "source": [
    "## Effective mass as function of..."
   ]
  },
  {
   "cell_type": "code",
   "execution_count": 172,
   "id": "33e188a7-a87f-4e15-ae4b-d6216b9d8fda",
   "metadata": {},
   "outputs": [],
   "source": [
    "ax = make_plt()\n",
    "for i, k in enumerate(element_data.keys()):\n",
    "    ax = element_data[k]['plotter'].plot_props('E','doping','temp',temps=temps[0:1],ax=ax,label=k,marker=markers[i],color=colors[i],linestyle=linestyles[i][1])\n",
    "\n",
    "save_plt(ax, \"allmats_E_doping_temp\")"
   ]
  },
  {
   "cell_type": "code",
   "execution_count": 173,
   "id": "d00b2d0c-4ab5-48cf-abe3-af66e2fd3f18",
   "metadata": {},
   "outputs": [],
   "source": [
    "ax = make_plt()\n",
    "for i, k in enumerate(element_data.keys()):\n",
    "    ax = element_data[k]['plotter'].plot_props('E','temp','doping',doping=dopings_arr[:1], dop_type=doping_type,ax=ax,label=k,marker=markers[i],markevery=1,color=colors[i],linestyle=linestyles[i][1])\n",
    "\n",
    "save_plt(ax, \"allmats_E_temp_doping\")"
   ]
  },
  {
   "cell_type": "code",
   "execution_count": 174,
   "id": "710e853f-31a1-4249-b8b3-2279188582fc",
   "metadata": {},
   "outputs": [],
   "source": [
    "ax = make_plt()\n",
    "for i, k in enumerate(element_data.keys()):\n",
    "    ax = element_data[k]['plotter'].plot_props('E','mu','temp',temps=temps[0:1],ax=ax,label=k,marker=markers[i],markevery=460,color=colors[i],linestyle=linestyles[i][1])\n",
    "\n",
    "save_plt(ax, \"allmats_E_mu_temp\")"
   ]
  },
  {
   "cell_type": "markdown",
   "id": "5ad095f2-c77b-4c72-bfd0-46a0563115ad",
   "metadata": {
    "tags": []
   },
   "source": [
    "# Other"
   ]
  },
  {
   "cell_type": "code",
   "execution_count": 175,
   "id": "f8b3beb7-1500-48fa-b83a-0338c206656f",
   "metadata": {},
   "outputs": [
    {
     "ename": "FileNotFoundError",
     "evalue": "[Errno 2] No such file or directory: 'vasprun.xml'",
     "output_type": "error",
     "traceback": [
      "\u001b[0;31m---------------------------------------------------------------------------\u001b[0m",
      "\u001b[0;31mFileNotFoundError\u001b[0m                         Traceback (most recent call last)",
      "Cell \u001b[0;32mIn[175], line 1\u001b[0m\n\u001b[0;32m----> 1\u001b[0m vrun \u001b[38;5;241m=\u001b[39m \u001b[43mVasprun\u001b[49m\u001b[43m(\u001b[49m\u001b[38;5;124;43m'\u001b[39;49m\u001b[38;5;124;43mvasprun.xml\u001b[39;49m\u001b[38;5;124;43m'\u001b[39;49m\u001b[43m,\u001b[49m\u001b[43mparse_projected_eigen\u001b[49m\u001b[38;5;241;43m=\u001b[39;49m\u001b[38;5;28;43;01mTrue\u001b[39;49;00m\u001b[43m)\u001b[49m\n\u001b[1;32m      2\u001b[0m data \u001b[38;5;241m=\u001b[39m VasprunBSLoader(vrun)\n",
      "File \u001b[0;32m~/opt/anaconda3/envs/boltztrap2/lib/python3.9/site-packages/pymatgen/io/vasp/outputs.py:370\u001b[0m, in \u001b[0;36mVasprun.__init__\u001b[0;34m(self, filename, ionic_step_skip, ionic_step_offset, parse_dos, parse_eigen, parse_projected_eigen, parse_potcar_file, occu_tol, separate_spins, exception_on_bad_xml)\u001b[0m\n\u001b[1;32m    367\u001b[0m \u001b[38;5;28mself\u001b[39m\u001b[38;5;241m.\u001b[39mseparate_spins \u001b[38;5;241m=\u001b[39m separate_spins\n\u001b[1;32m    368\u001b[0m \u001b[38;5;28mself\u001b[39m\u001b[38;5;241m.\u001b[39mexception_on_bad_xml \u001b[38;5;241m=\u001b[39m exception_on_bad_xml\n\u001b[0;32m--> 370\u001b[0m \u001b[38;5;28;01mwith\u001b[39;00m \u001b[43mzopen\u001b[49m\u001b[43m(\u001b[49m\u001b[43mfilename\u001b[49m\u001b[43m,\u001b[49m\u001b[43m \u001b[49m\u001b[38;5;124;43m\"\u001b[39;49m\u001b[38;5;124;43mrt\u001b[39;49m\u001b[38;5;124;43m\"\u001b[39;49m\u001b[43m)\u001b[49m \u001b[38;5;28;01mas\u001b[39;00m f:\n\u001b[1;32m    371\u001b[0m     \u001b[38;5;28;01mif\u001b[39;00m ionic_step_skip \u001b[38;5;129;01mor\u001b[39;00m ionic_step_offset:\n\u001b[1;32m    372\u001b[0m         \u001b[38;5;66;03m# remove parts of the xml file and parse the string\u001b[39;00m\n\u001b[1;32m    373\u001b[0m         run \u001b[38;5;241m=\u001b[39m f\u001b[38;5;241m.\u001b[39mread()\n",
      "File \u001b[0;32m~/opt/anaconda3/envs/boltztrap2/lib/python3.9/site-packages/monty/io.py:45\u001b[0m, in \u001b[0;36mzopen\u001b[0;34m(filename, *args, **kwargs)\u001b[0m\n\u001b[1;32m     43\u001b[0m \u001b[38;5;28;01mif\u001b[39;00m ext \u001b[38;5;129;01min\u001b[39;00m (\u001b[38;5;124m\"\u001b[39m\u001b[38;5;124m.XZ\u001b[39m\u001b[38;5;124m\"\u001b[39m, \u001b[38;5;124m\"\u001b[39m\u001b[38;5;124m.LZMA\u001b[39m\u001b[38;5;124m\"\u001b[39m):\n\u001b[1;32m     44\u001b[0m     \u001b[38;5;28;01mreturn\u001b[39;00m lzma\u001b[38;5;241m.\u001b[39mopen(filename, \u001b[38;5;241m*\u001b[39margs, \u001b[38;5;241m*\u001b[39m\u001b[38;5;241m*\u001b[39mkwargs)\n\u001b[0;32m---> 45\u001b[0m \u001b[38;5;28;01mreturn\u001b[39;00m \u001b[38;5;28;43mopen\u001b[39;49m\u001b[43m(\u001b[49m\u001b[43mfilename\u001b[49m\u001b[43m,\u001b[49m\u001b[43m \u001b[49m\u001b[38;5;241;43m*\u001b[39;49m\u001b[43margs\u001b[49m\u001b[43m,\u001b[49m\u001b[43m \u001b[49m\u001b[38;5;241;43m*\u001b[39;49m\u001b[38;5;241;43m*\u001b[39;49m\u001b[43mkwargs\u001b[49m\u001b[43m)\u001b[49m\n",
      "\u001b[0;31mFileNotFoundError\u001b[0m: [Errno 2] No such file or directory: 'vasprun.xml'"
     ]
    }
   ],
   "source": [
    "vrun = Vasprun('vasprun.xml',parse_projected_eigen=True)\n",
    "data = VasprunBSLoader(vrun)"
   ]
  },
  {
   "cell_type": "code",
   "execution_count": null,
   "id": "bbe17076-4e3d-4e36-8442-5ddeb1fa9fcf",
   "metadata": {},
   "outputs": [],
   "source": [
    "# set curvature=False to speed up in case you do not need effective mass or hall coeficients\n",
    "if save_to_disk:\n",
    "    bztInterp = BztInterpolator(data,lpfac=10,energy_range=energy_range,curvature=True,save_bztInterp=True, fname='bztInterp.json.gz')\n",
    "    print(\"Saved to disk!\")\n",
    "elif load_from_disk:\n",
    "    bztInterp = BztInterpolator(data, load_bztInterp=True, fname='bztInterp.json.gz')\n",
    "    print(\"Loaded from disk!\")"
   ]
  },
  {
   "cell_type": "code",
   "execution_count": null,
   "id": "7cc2acb8-8d95-485c-b9f5-0123174fe675",
   "metadata": {},
   "outputs": [],
   "source": [
    "# sbs = bztInterp.get_band_structure()\n",
    "# list(sbs.bands.values())[0].shape\n",
    "# BSPlotter(sbs).show(ylim=[-energy_range, energy_range])"
   ]
  },
  {
   "cell_type": "code",
   "execution_count": null,
   "id": "a62cfd69-806c-472c-849d-10d7e4c0b027",
   "metadata": {},
   "outputs": [],
   "source": [
    "kpaths = [[\"Γ\", \"Y\", \"C0\"], [\"Σ0\", \"Γ\", \"Z\", \"A0\"], [\"E0\", \"T\", \"Y\"], [\"Γ\", \"S\", \"R\", \"Z\", \"T\"]]\n",
    "\n",
    "kp_lbl = {\"A0\":np.array([0.5000000000, 0.5000000000, 0.5000000000]),\n",
    "          \"A0'\":np.array([-0.5000000000, -0.5000000000, -0.5000000000]),\n",
    "          \"C0\":np.array([-0.5000000000, 0.5000000000, 0.0000000000]),\n",
    "          \"C0'\":np.array([0.5000000000, -0.5000000000, -0.0000000000]),\n",
    "          \"E0\":np.array([-0.5000000000, 0.5000000000, 0.5000000000]),\n",
    "          \"E0'\":np.array([0.5000000000, -0.5000000000, -0.5000000000]),\n",
    "          \"Γ\":np.array([0.0000000000, 0.0000000000, 0.0000000000]),\n",
    "          \"R\":np.array([0.0000000000, 0.5000000000, 0.5000000000]),\n",
    "          \"R'\":np.array([-0.0000000000, -0.5000000000, -0.5000000000]),\n",
    "          \"S\":np.array([0.0000000000, 0.5000000000, 0.0000000000]),\n",
    "          \"S'\":np.array([-0.0000000000, -0.5000000000, -0.0000000000]),\n",
    "          \"Σ0\":np.array([0.5000000000, 0.5000000000, 0.0000000000]),\n",
    "          \"Σ0'\":np.array([-0.5000000000, -0.5000000000, -0.0000000000]),\n",
    "          \"T\":np.array([-0.5000000000, 0.5000000000, 0.5000000000]),\n",
    "          \"T'\":np.array([0.5000000000, -0.5000000000, -0.5000000000]),\n",
    "          \"Y\":np.array([-0.5000000000, 0.5000000000, 0.0000000000]),\n",
    "          \"Y'\":np.array([0.5000000000, -0.5000000000, -0.0000000000]),\n",
    "          \"Z\":np.array([0.0000000000, 0.0000000000, 0.5000000000]),\n",
    "          \"Z'\":np.array([-0.0000000000, -0.0000000000, -0.5000000000]),\n",
    "          }\n",
    "sbs = bztInterp.get_band_structure(kpaths,kp_lbl)\n",
    "BSPlotter(sbs).show(ylim=[-energy_range, energy_range])"
   ]
  },
  {
   "cell_type": "code",
   "execution_count": null,
   "id": "3b74b1e3-4b95-4677-ac21-0a9a184596ad",
   "metadata": {},
   "outputs": [],
   "source": [
    "tot_dos = bztInterp.get_dos()"
   ]
  },
  {
   "cell_type": "code",
   "execution_count": null,
   "id": "bd327a5c-1675-4cff-bfb9-56ef2e889e08",
   "metadata": {},
   "outputs": [],
   "source": [
    "if partial_dos:\n",
    "    tot_proj_dos = bztInterp.get_dos(partial_dos=True, progress=True)\n",
    "\n",
    "    pltdos = DosPlotter(sigma=0.004)\n",
    "    pltdos.add_dos_dict(tot_proj_dos.get_element_dos())\n",
    "    pltdos.show()"
   ]
  },
  {
   "cell_type": "code",
   "execution_count": null,
   "id": "ee08dbc2-f376-4e40-8f3a-0d9ab0cbeff5",
   "metadata": {},
   "outputs": [],
   "source": [
    "if save_to_disk:\n",
    "    bztTransp = BztTransportProperties(bztInterp, temp_r=temp_r, doping=dopings_r, save_bztTranspProps=True, fname='bztTranspProps.json.gz')\n",
    "    print(\"Saved to disk!\")\n",
    "elif load_from_disk:\n",
    "    bztTransp = BztTransportProperties(bztInterp, load_bztTranspProps=True, fname='bztTranspProps.json.gz')\n",
    "    print(\"Loaded from disk!\")"
   ]
  },
  {
   "cell_type": "code",
   "execution_count": null,
   "id": "d1c330f2-20f4-45d7-8b27-16343629ed54",
   "metadata": {},
   "outputs": [],
   "source": [
    "print('\\t'.join(['Temp', '\\mu', 'rows', 'columns tensor']))\n",
    "for p in bztTransp.Conductivity_mu, bztTransp.Seebeck_mu, bztTransp.Kappa_mu, \\\n",
    "         bztTransp.Effective_mass_mu, bztTransp.Power_Factor_mu, bztTransp.Carrier_conc_mu:\n",
    "    print('\\t'.join([str(i) for i in p.shape]))"
   ]
  },
  {
   "cell_type": "code",
   "execution_count": null,
   "id": "c1a1b749-45e0-40df-85c7-9710237488d0",
   "metadata": {},
   "outputs": [],
   "source": [
    "bztTransp.compute_properties_doping(doping=dopings_r)"
   ]
  },
  {
   "cell_type": "code",
   "execution_count": null,
   "id": "3247223b-b144-43c1-a475-df32500ad197",
   "metadata": {},
   "outputs": [],
   "source": [
    "print('\\t'.join(['Temp', 'Doping', 'rows', 'columns tensor']))\n",
    "for p in bztTransp.Conductivity_doping, bztTransp.Seebeck_doping, bztTransp.Kappa_doping, \\\n",
    "         bztTransp.Carriers_conc_doping,bztTransp.Effective_mass_doping, bztTransp.Power_Factor_doping:\n",
    "    print('\\t'.join([str(i) for i in p[doping_type].shape]))"
   ]
  },
  {
   "cell_type": "markdown",
   "id": "4361adf3-d61d-421c-bd58-806362a8a858",
   "metadata": {
    "tags": []
   },
   "source": [
    "## Plots!"
   ]
  },
  {
   "cell_type": "code",
   "execution_count": null,
   "id": "45842cbd-9bfa-4e49-bb86-a960f598f3b4",
   "metadata": {},
   "outputs": [],
   "source": [
    "bztPlotter = BztPlotter(bztTransp,bztInterp)"
   ]
  },
  {
   "cell_type": "code",
   "execution_count": null,
   "id": "19a5c948-bb9a-444d-9f33-f337064138e9",
   "metadata": {},
   "outputs": [],
   "source": [
    "ax = bztPlotter.plot_props('C','doping','temp',temps=temps[0:1])\n",
    "\n",
    "ax = bztPlotter.plot_props('C','doping','temp',temps=temps[1:2],ax=ax)"
   ]
  },
  {
   "cell_type": "code",
   "execution_count": null,
   "id": "751d1f01-1330-41c6-b738-e8bdfe39e99d",
   "metadata": {},
   "outputs": [],
   "source": [
    "bztPlotter.plot_props('C','temp','doping',doping=dopings_arr, dop_type=doping_type).show()"
   ]
  },
  {
   "cell_type": "code",
   "execution_count": null,
   "id": "4a4a6a57-4e6a-4e49-9343-75788251265f",
   "metadata": {},
   "outputs": [],
   "source": [
    "bztPlotter.plot_props('C','mu','temp',temps=temps)"
   ]
  },
  {
   "cell_type": "code",
   "execution_count": null,
   "id": "25ffb0bb-76d7-4107-867a-fb1f384a8fe6",
   "metadata": {},
   "outputs": [],
   "source": [
    "bztPlotter.plot_props('S','mu','temp',temps=temps)"
   ]
  },
  {
   "cell_type": "code",
   "execution_count": null,
   "id": "af7441b3-c1ab-4a5d-b68c-c2b516616b85",
   "metadata": {},
   "outputs": [],
   "source": [
    "bztPlotter.plot_props('S','doping','temp', temps=temps, dop_type=doping_type).show()"
   ]
  },
  {
   "cell_type": "code",
   "execution_count": null,
   "id": "a65f0348-7210-4fe9-8137-73517214cb23",
   "metadata": {},
   "outputs": [],
   "source": [
    "bztPlotter.plot_props('S','temp','doping',doping=dopings_arr, dop_type=doping_type).show()"
   ]
  },
  {
   "cell_type": "code",
   "execution_count": null,
   "id": "52ba942d-ad24-4180-b9d5-29eece414406",
   "metadata": {},
   "outputs": [],
   "source": [
    "bztPlotter.plot_props('Po','doping','temp',temps=temps,dop_type=doping_type).show()"
   ]
  },
  {
   "cell_type": "code",
   "execution_count": null,
   "id": "74e8d3d3-c89b-4286-ae15-f979648eab80",
   "metadata": {},
   "outputs": [],
   "source": [
    "bztPlotter.plot_props('Po','temp','doping',doping=dopings_arr, dop_type=doping_type).show()"
   ]
  },
  {
   "cell_type": "code",
   "execution_count": null,
   "id": "00303839-514e-43ff-b32a-2b823a22b0b1",
   "metadata": {},
   "outputs": [],
   "source": [
    "bztPlotter.plot_props('Po','mu','temp',temps=temps,dop_type=doping_type).show()"
   ]
  },
  {
   "cell_type": "code",
   "execution_count": null,
   "id": "40e575ad-2c20-4645-9fef-6fac7fb761d1",
   "metadata": {},
   "outputs": [],
   "source": [
    "bztPlotter.plot_props('E','doping','temp',temps=temps).show()"
   ]
  },
  {
   "cell_type": "code",
   "execution_count": null,
   "id": "79902cb7-b754-4ad2-9f67-e2ad1908628a",
   "metadata": {},
   "outputs": [],
   "source": [
    "bztPlotter.plot_props('E','temp','doping',doping=dopings_arr, dop_type=doping_type).show()"
   ]
  },
  {
   "cell_type": "code",
   "execution_count": null,
   "id": "306c2219-9506-49e5-8087-f526c6d84b20",
   "metadata": {},
   "outputs": [],
   "source": [
    "bztPlotter.plot_props('E','mu','temp',temps=temps).show()"
   ]
  },
  {
   "cell_type": "markdown",
   "id": "1b929f33-ffb3-4dea-a5cb-92fc12f3e709",
   "metadata": {
    "tags": []
   },
   "source": [
    "## Misc plots"
   ]
  },
  {
   "cell_type": "code",
   "execution_count": null,
   "id": "5f131535-c2b5-4fe6-8c13-058b00053a6e",
   "metadata": {},
   "outputs": [],
   "source": [
    "bztPlotter.plot_props('K','mu','temp',temps=[600,900,1200]).show()"
   ]
  },
  {
   "cell_type": "code",
   "execution_count": null,
   "id": "21bb99a8-7a64-4867-b118-579c766bbe4f",
   "metadata": {},
   "outputs": [],
   "source": [
    "bztPlotter.plot_props('H','mu','temp',temps=[600,900,1200]).show()"
   ]
  },
  {
   "cell_type": "code",
   "execution_count": null,
   "id": "9495349a-9e75-4b81-ac12-45fdd3c126e3",
   "metadata": {},
   "outputs": [],
   "source": [
    "bztPlotter.plot_props('Ca','mu','temp',temps=[600,900,1200]).show()"
   ]
  },
  {
   "cell_type": "code",
   "execution_count": null,
   "id": "8c775460-0590-4578-8877-4a9b87f00473",
   "metadata": {},
   "outputs": [],
   "source": [
    "bztPlotter.plot_bands().show()"
   ]
  },
  {
   "cell_type": "code",
   "execution_count": null,
   "id": "f35b2285-d007-4dd6-892d-add1a205066d",
   "metadata": {},
   "outputs": [],
   "source": [
    "bztPlotter.plot_dos(T=200).show()"
   ]
  },
  {
   "cell_type": "code",
   "execution_count": null,
   "id": "3346b557-8c06-4da2-b89a-823c82ab736b",
   "metadata": {},
   "outputs": [],
   "source": []
  }
 ],
 "metadata": {
  "kernelspec": {
   "display_name": "Python 3 (ipykernel)",
   "language": "python",
   "name": "python3"
  },
  "language_info": {
   "codemirror_mode": {
    "name": "ipython",
    "version": 3
   },
   "file_extension": ".py",
   "mimetype": "text/x-python",
   "name": "python",
   "nbconvert_exporter": "python",
   "pygments_lexer": "ipython3",
   "version": "3.9.16"
  }
 },
 "nbformat": 4,
 "nbformat_minor": 5
}
