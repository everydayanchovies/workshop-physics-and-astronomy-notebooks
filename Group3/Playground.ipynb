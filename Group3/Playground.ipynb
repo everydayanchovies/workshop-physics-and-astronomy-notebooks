{
 "cells": [
  {
   "cell_type": "markdown",
   "id": "1489f22b-bbac-47c5-83dc-994715cb83e3",
   "metadata": {
    "tags": []
   },
   "source": [
    "# Prep"
   ]
  },
  {
   "cell_type": "code",
   "execution_count": 1,
   "id": "58baf71f-7743-4ea6-b6d5-da5404c5b39e",
   "metadata": {},
   "outputs": [
    {
     "name": "stdout",
     "output_type": "stream",
     "text": [
      "Playground notebook\n"
     ]
    }
   ],
   "source": [
    "print(\"Playground notebook\")"
   ]
  },
  {
   "cell_type": "code",
   "execution_count": 2,
   "id": "1a666922-eaf6-4a81-ade0-b1a72c768252",
   "metadata": {},
   "outputs": [],
   "source": [
    "%notebook inline"
   ]
  },
  {
   "cell_type": "code",
   "execution_count": 3,
   "id": "fae4a116-cef9-41dd-b56c-402cface7d81",
   "metadata": {},
   "outputs": [],
   "source": [
    "from pymatgen.electronic_structure.boltztrap2 import *\n",
    "from monty.serialization import loadfn\n",
    "from pymatgen.electronic_structure.plotter import BSPlotter\n",
    "from pymatgen.electronic_structure.plotter import DosPlotter\n",
    "\n",
    "import matplotlib\n",
    "orig_mpl_backend = plt.get_backend()\n",
    "orig_mpl_backend = 'agg'\n",
    "matplotlib.use('pgf')\n",
    "plt.rcParams.update({\n",
    "    \"font.family\": \"serif\",  # use serif/main font for text elements\n",
    "    \"text.usetex\": True,     # use inline math for ticks\n",
    "    \"pgf.rcfonts\": False,    # don't setup fonts from rc parameters\n",
    "    \"pgf.preamble\": \"\\n\".join([\n",
    "         r\"\\usepackage{unicode-math}\",   # unicode math setup\n",
    "    ])\n",
    "})"
   ]
  },
  {
   "cell_type": "code",
   "execution_count": 4,
   "id": "f69a3942-111d-428b-bb52-c1e728b2e593",
   "metadata": {},
   "outputs": [],
   "source": [
    "def fp_for_element(el):\n",
    "    el = el.replace(' ', '_')\n",
    "    if '-' in el:\n",
    "        a, b = el.split('-')\n",
    "        return f'{a}-defect-data/{b}/'\n",
    "    \n",
    "    return f'{el}/'"
   ]
  },
  {
   "cell_type": "code",
   "execution_count": 75,
   "id": "518b2c1a-da0f-421e-b0f7-5a9e8a35ecbb",
   "metadata": {},
   "outputs": [],
   "source": [
    "elements = {\n",
    "    'Mo3Si2': ['MoSi', 'SiMo', 'VMo', 'VSi'],\n",
    "    'MoSi2 tetragonal': [],\n",
    "    'MoSi2 hexagonal': [],\n",
    "}"
   ]
  },
  {
   "cell_type": "code",
   "execution_count": 113,
   "id": "2b08dcd5-f35b-4268-8cb9-09350f7660c5",
   "metadata": {},
   "outputs": [],
   "source": [
    "# deviation from Fermi energy in eV\n",
    "# energy_range = 3.5\n",
    "energy_range = 10\n",
    "erange = [-energy_range, energy_range/2]\n",
    "eranget = (-energy_range, energy_range/2)\n",
    "temp_r = np.arange(300,1300,300)\n",
    "temps = [300, 600, 900, 1200]\n",
    "temp = [temps[-1]]\n",
    "dopings_r = 10.**np.arange(18,23,0.15)\n",
    "dopings_arr = [dopings_r[10], dopings_r[20], dopings_r[30]]\n",
    "doping_type = 'p'\n",
    "\n",
    "save_to_disk = False\n",
    "load_from_disk = not save_to_disk"
   ]
  },
  {
   "cell_type": "markdown",
   "id": "26d975b3-b563-4a98-9587-46bcb77e396f",
   "metadata": {
    "tags": []
   },
   "source": [
    "# MyBztPlotter"
   ]
  },
  {
   "cell_type": "code",
   "execution_count": 64,
   "id": "78dcf933-0e96-4f5c-88e2-bada822d0984",
   "metadata": {},
   "outputs": [],
   "source": [
    "class MyBztPlotter(BztPlotter):\n",
    "    def plot_props_mul(\n",
    "        self,\n",
    "        prop_y,\n",
    "        prop_x,\n",
    "        prop_z=\"temp\",\n",
    "        output=\"avg_eigs\",\n",
    "        dop_type=\"n\",\n",
    "        doping=None,\n",
    "        temps=None,\n",
    "        xlim=(-2, 2),\n",
    "        ax=None,\n",
    "        label=\"\",\n",
    "        linestyle=\"solid\",\n",
    "        marker=\"o\",\n",
    "        markevery=1,\n",
    "        color=\"b\",\n",
    "    ):\n",
    "        \"\"\"\n",
    "        Function to plot the transport properties.\n",
    "        Args:\n",
    "            prop_y: property to plot among (\"Conductivity\",\"Seebeck\",\"Kappa\",\"Carrier_conc\",\n",
    "                \"Hall_carrier_conc_trace\"). Abbreviations are possible, like \"S\" for \"Seebeck\"\n",
    "            prop_x: independent variable in the x-axis among ('mu','doping','temp')\n",
    "            prop_z: third variable to plot multiple curves ('doping','temp')\n",
    "            output: 'avg_eigs' to plot the average of the eigenvalues of the properties\n",
    "                tensors; 'eigs' to plot the three eigenvalues of the properties\n",
    "                tensors.\n",
    "            dop_type: 'n' or 'p' to specify the doping type in plots that use doping\n",
    "                levels as prop_x or prop_z\n",
    "            doping: list of doping level to plot, useful to reduce the number of curves\n",
    "                when prop_z='doping'\n",
    "            temps: list of temperatures to plot, useful to reduce the number of curves\n",
    "                when prop_z='temp'\n",
    "            xlim: chemical potential range in eV, useful when prop_x='mu'\n",
    "            ax: figure.axes where to plot. If None, a new figure is produced.\n",
    "        Example:\n",
    "        bztPlotter.plot_props('S','mu','temp',temps=[600,900,1200]).show()\n",
    "        more example are provided in the notebook\n",
    "        \"How to use Boltztra2 interface.ipynb\".\n",
    "        \"\"\"\n",
    "        props = (\n",
    "            \"Conductivity\",\n",
    "            \"Seebeck\",\n",
    "            \"Kappa\",\n",
    "            \"Effective_mass\",\n",
    "            \"Power_Factor\",\n",
    "            \"Carrier_conc\",\n",
    "            \"Hall_carrier_conc_trace\",\n",
    "        )\n",
    "        props_lbl = (\n",
    "            \"Conductivity\",\n",
    "            \"Seebeck\",\n",
    "            \"$K_{el}$\",\n",
    "            \"Effective mass\",\n",
    "            \"Power Factor\",\n",
    "            \"Carrier concentration\",\n",
    "            \"Hall carrier conc.\",\n",
    "        )\n",
    "        props_unit = (\n",
    "            r\"$(\\mathrm{S\\,m^{-1}})$\",\n",
    "            r\"($\\mu$V/K)\",\n",
    "            r\"$(W / (m \\cdot K))$\",\n",
    "            r\"$(m_e)$\",\n",
    "            r\"$( mW / (m\\cdot K^2)$\",\n",
    "            r\"$(cm^{-3})$\",\n",
    "            r\"$(cm^{-3})$\",\n",
    "        )\n",
    "\n",
    "        props_short = [p[: len(prop_y)] for p in props]\n",
    "\n",
    "        if prop_y not in props_short:\n",
    "            raise BoltztrapError(\"prop_y not valid\")\n",
    "\n",
    "        if prop_x not in (\"mu\", \"doping\", \"temp\"):\n",
    "            raise BoltztrapError(\"prop_x not valid\")\n",
    "\n",
    "        if prop_z not in (\"doping\", \"temp\"):\n",
    "            raise BoltztrapError(\"prop_z not valid\")\n",
    "\n",
    "        idx_prop = props_short.index(prop_y)\n",
    "\n",
    "        leg_title = \"\"\n",
    "\n",
    "        mu = self.bzt_transP.mu_r_eV\n",
    "\n",
    "        if prop_z == \"doping\" and prop_x == \"temp\":\n",
    "            p_array = eval(\"self.bzt_transP.\" + props[idx_prop] + \"_\" + prop_z)\n",
    "        else:\n",
    "            p_array = eval(\"self.bzt_transP.\" + props[idx_prop] + \"_\" + prop_x)\n",
    "\n",
    "        if ax is None:\n",
    "            plt.figure(figsize=(10, 8))\n",
    "\n",
    "        temps_all = self.bzt_transP.temp_r.tolist()\n",
    "        if temps is None:\n",
    "            temps = self.bzt_transP.temp_r.tolist()\n",
    "\n",
    "        if isinstance(self.bzt_transP.doping, np.ndarray):\n",
    "            doping_all = self.bzt_transP.doping.tolist()\n",
    "            if doping is None:\n",
    "                doping = doping_all\n",
    "\n",
    "        # special case of carrier and hall carrier concentration 2d arrays (temp,mu)\n",
    "        if idx_prop in [5, 6]:\n",
    "            if prop_z == \"temp\" and prop_x == \"mu\":\n",
    "                for temp in temps:\n",
    "                    ti = temps_all.index(temp)\n",
    "                    prop_out = p_array[ti] if idx_prop == 6 else np.abs(p_array[ti])\n",
    "                    plt.semilogy(mu, prop_out, label=label + \": \" + str(temp) + \" K\", linestyle=linestyle, marker=marker, markevery=markevery, color=color)\n",
    "\n",
    "                plt.xlabel(r\"$\\mu$ (eV)\", fontsize=30)\n",
    "                plt.xlim(xlim)\n",
    "            else:\n",
    "                raise BoltztrapError(\n",
    "                    \"only prop_x=mu and prop_z=temp are \\\n",
    "                    available for c.c. and Hall c.c.!\"\n",
    "                )\n",
    "\n",
    "        elif prop_z == \"temp\" and prop_x == \"mu\":\n",
    "            for temp in temps:\n",
    "                ti = temps_all.index(temp)\n",
    "                prop_out = np.linalg.eigh(p_array[ti])[0]\n",
    "                if output == \"avg_eigs\":\n",
    "                    plt.plot(mu, prop_out.mean(axis=1), label=label + \": \" + str(temp) + \" K\", linestyle=linestyle, marker=marker, markevery=markevery, color=color)\n",
    "                elif output == \"eigs\":\n",
    "                    for i in range(3):\n",
    "                        plt.plot(\n",
    "                            mu,\n",
    "                            prop_out[:, i],\n",
    "                            label=label + \": \" + \"eig \" + str(i) + \" \" + str(temp) + \" K\", linestyle=linestyle, marker=marker, markevery=markevery, color=color\n",
    "                        )\n",
    "\n",
    "            plt.xlabel(r\"$\\mu$ (eV)\", fontsize=30)\n",
    "            plt.xlim(xlim)\n",
    "\n",
    "        elif prop_z == \"temp\" and prop_x == \"doping\":\n",
    "            for temp in temps:\n",
    "                ti = temps_all.index(temp)\n",
    "                prop_out = np.linalg.eigh(p_array[dop_type][ti])[0]\n",
    "                if output == \"avg_eigs\":\n",
    "                    plt.semilogx(doping_all, prop_out.mean(axis=1), label=label + \": \" + str(temp) + \" K\", linestyle=linestyle, marker=marker, markevery=markevery, color=color)\n",
    "                elif output == \"eigs\":\n",
    "                    for i in range(3):\n",
    "                        plt.plot(\n",
    "                            doping_all,\n",
    "                            prop_out[:, i],\n",
    "                            label=label + \": \" + \"eig \" + str(i) + \" \" + str(temp) + \" K\", linestyle=linestyle, marker=marker, markevery=markevery, color=color\n",
    "                        )\n",
    "            plt.xlabel(r\"Carrier conc. $cm^{-3}$\", fontsize=30)\n",
    "            leg_title = dop_type + \"-type\"\n",
    "\n",
    "        elif prop_z == \"doping\" and prop_x == \"temp\":\n",
    "            for dop in doping:\n",
    "                di = doping_all.index(dop)\n",
    "                prop_out = np.linalg.eigh(p_array[dop_type][:, di])[0]\n",
    "                if output == \"avg_eigs\":\n",
    "                    plt.plot(\n",
    "                        temps_all,\n",
    "                        prop_out.mean(axis=1),\n",
    "                        label=label + \": \" + np.format_float_scientific(dop, unique=False, precision=2) + \" $cm^{-3}$\", linestyle=linestyle, marker=marker, markevery=markevery, color=color\n",
    "                    )\n",
    "                elif output == \"eigs\":\n",
    "                    for i in range(3):\n",
    "                        plt.plot(\n",
    "                            temps_all,\n",
    "                            prop_out[:, i],\n",
    "                            label=label + \": \" + \"eig \" + str(i) + \" \" + np.format_float_scientific(dop, unique=False, precision=2) + \" $cm^{-3}$\", linestyle=linestyle, marker=marker, markevery=markevery, color=color\n",
    "                        )\n",
    "\n",
    "            plt.xlabel(r\"Temperature (K)\", fontsize=30)\n",
    "            leg_title = dop_type + \"-type\"\n",
    "\n",
    "        plt.ylabel(props_lbl[idx_prop] + \" \" + props_unit[idx_prop], fontsize=30)\n",
    "        plt.xticks(fontsize=25)\n",
    "        plt.yticks(fontsize=25)\n",
    "        plt.legend(title=leg_title, fontsize=15)\n",
    "        plt.tight_layout()\n",
    "        plt.grid()\n",
    "        return plt\n",
    "    \n",
    "    def plot_props(\n",
    "        self,\n",
    "        prop_y,\n",
    "        prop_x,\n",
    "        prop_z=\"temp\",\n",
    "        output=\"avg_eigs\",\n",
    "        dop_type=\"n\",\n",
    "        doping=None,\n",
    "        temps=None,\n",
    "        xlim=(-2, 2),\n",
    "        ax=None,\n",
    "        markevery=1,\n",
    "    ):\n",
    "        \"\"\"\n",
    "        Function to plot the transport properties.\n",
    "        Args:\n",
    "            prop_y: property to plot among (\"Conductivity\",\"Seebeck\",\"Kappa\",\"Carrier_conc\",\n",
    "                \"Hall_carrier_conc_trace\"). Abbreviations are possible, like \"S\" for \"Seebeck\"\n",
    "            prop_x: independent variable in the x-axis among ('mu','doping','temp')\n",
    "            prop_z: third variable to plot multiple curves ('doping','temp')\n",
    "            output: 'avg_eigs' to plot the average of the eigenvalues of the properties\n",
    "                tensors; 'eigs' to plot the three eigenvalues of the properties\n",
    "                tensors.\n",
    "            dop_type: 'n' or 'p' to specify the doping type in plots that use doping\n",
    "                levels as prop_x or prop_z\n",
    "            doping: list of doping level to plot, useful to reduce the number of curves\n",
    "                when prop_z='doping'\n",
    "            temps: list of temperatures to plot, useful to reduce the number of curves\n",
    "                when prop_z='temp'\n",
    "            xlim: chemical potential range in eV, useful when prop_x='mu'\n",
    "            ax: figure.axes where to plot. If None, a new figure is produced.\n",
    "        Example:\n",
    "        bztPlotter.plot_props('S','mu','temp',temps=[600,900,1200]).show()\n",
    "        more example are provided in the notebook\n",
    "        \"How to use Boltztra2 interface.ipynb\".\n",
    "        \"\"\"\n",
    "        props = (\n",
    "            \"Conductivity\",\n",
    "            \"Seebeck\",\n",
    "            \"Kappa\",\n",
    "            \"Effective_mass\",\n",
    "            \"Power_Factor\",\n",
    "            \"Carrier_conc\",\n",
    "            \"Hall_carrier_conc_trace\",\n",
    "        )\n",
    "        props_lbl = (\n",
    "            \"Conductivity\",\n",
    "            \"Seebeck\",\n",
    "            \"$K_{el}$\",\n",
    "            \"Effective mass\",\n",
    "            \"Power Factor\",\n",
    "            \"Carrier concentration\",\n",
    "            \"Hall carrier conc.\",\n",
    "        )\n",
    "        props_unit = (\n",
    "            r\"$(\\mathrm{S\\,m^{-1}})$\",\n",
    "            r\"($\\mu$V/K)\",\n",
    "            r\"$(W / (m \\cdot K))$\",\n",
    "            r\"$(m_e)$\",\n",
    "            r\"$( mW / (m\\cdot K^2)$\",\n",
    "            r\"$(cm^{-3})$\",\n",
    "            r\"$(cm^{-3})$\",\n",
    "        )\n",
    "\n",
    "        props_short = [p[: len(prop_y)] for p in props]\n",
    "\n",
    "        if prop_y not in props_short:\n",
    "            raise BoltztrapError(\"prop_y not valid\")\n",
    "\n",
    "        if prop_x not in (\"mu\", \"doping\", \"temp\"):\n",
    "            raise BoltztrapError(\"prop_x not valid\")\n",
    "\n",
    "        if prop_z not in (\"doping\", \"temp\"):\n",
    "            raise BoltztrapError(\"prop_z not valid\")\n",
    "            \n",
    "        colors = ['#377eb8', '#ff7f00', '#4daf4a',\n",
    "           '#f781bf', '#a65628', '#984ea3',\n",
    "           '#999999', '#e41a1c', '#dede00']\n",
    "\n",
    "        linestyles = [\n",
    "            ('solid', 'solid'),      # Same as (0, ()) or '-'\n",
    "             ('dotted', 'dotted'),    # Same as (0, (1, 1)) or ':'\n",
    "             ('dashed', 'dashed'),    # Same as '--'\n",
    "             ('dashdot', 'dashdot'),  # Same as '-.'\n",
    "             ('long dash with offset', (5, (10, 3))),\n",
    "             ('densely dashed',        (0, (5, 1))),\n",
    "\n",
    "             ('densely dashdotted',    (0, (3, 1, 1, 1))),\n",
    "\n",
    "             ('dashdotdotted',         (0, (3, 5, 1, 5, 1, 5))),\n",
    "             ('loosely dashdotdotted', (0, (3, 10, 1, 10, 1, 10))),\n",
    "             ('densely dashdotdotted', (0, (3, 1, 1, 1, 1, 1)))]\n",
    "\n",
    "        markers = ['o', 'v', 's',\n",
    "                  'X', 'd', '*',\n",
    "                  'x', 'P', '2']\n",
    "\n",
    "        idx_prop = props_short.index(prop_y)\n",
    "\n",
    "        leg_title = \"\"\n",
    "\n",
    "        mu = self.bzt_transP.mu_r_eV\n",
    "\n",
    "        if prop_z == \"doping\" and prop_x == \"temp\":\n",
    "            p_array = eval(\"self.bzt_transP.\" + props[idx_prop] + \"_\" + prop_z)\n",
    "        else:\n",
    "            p_array = eval(\"self.bzt_transP.\" + props[idx_prop] + \"_\" + prop_x)\n",
    "\n",
    "        if ax is None:\n",
    "            plt.figure(figsize=(10, 8))\n",
    "\n",
    "        temps_all = self.bzt_transP.temp_r.tolist()\n",
    "        if temps is None:\n",
    "            temps = self.bzt_transP.temp_r.tolist()\n",
    "\n",
    "        if isinstance(self.bzt_transP.doping, np.ndarray):\n",
    "            doping_all = self.bzt_transP.doping.tolist()\n",
    "            if doping is None:\n",
    "                doping = doping_all\n",
    "\n",
    "        # special case of carrier and hall carrier concentration 2d arrays (temp,mu)\n",
    "        if idx_prop in [5, 6]:\n",
    "            if prop_z == \"temp\" and prop_x == \"mu\":\n",
    "                for i, temp in enumerate(temps):\n",
    "                    ti = temps_all.index(temp)\n",
    "                    prop_out = p_array[ti] if idx_prop == 6 else np.abs(p_array[ti])\n",
    "                    plt.semilogy(mu, prop_out, label=str(temp) + \" K\", linestyle=linestyles[i][1], marker=markers[i], markevery=markevery, color=colors[i])\n",
    "\n",
    "                plt.xlabel(r\"$\\mu$ (eV)\", fontsize=30)\n",
    "                plt.xlim(xlim)\n",
    "            else:\n",
    "                raise BoltztrapError(\n",
    "                    \"only prop_x=mu and prop_z=temp are \\\n",
    "                    available for c.c. and Hall c.c.!\"\n",
    "                )\n",
    "\n",
    "        elif prop_z == \"temp\" and prop_x == \"mu\":\n",
    "            for i, temp in enumerate(temps):\n",
    "                ti = temps_all.index(temp)\n",
    "                prop_out = np.linalg.eigh(p_array[ti])[0]\n",
    "                if output == \"avg_eigs\":\n",
    "                    plt.plot(mu, prop_out.mean(axis=1), label=str(temp) + \" K\", linestyle=linestyles[i][1], marker=markers[i], markevery=markevery, color=colors[i])\n",
    "                elif output == \"eigs\":\n",
    "                    for i in range(3):\n",
    "                        plt.plot(\n",
    "                            mu,\n",
    "                            prop_out[:, i],\n",
    "                            label=\"eig \" + str(i) + \" \" + str(temp) + \" K\", linestyle=linestyles[i][1], marker=markers[i], markevery=markevery, color=colors[i]\n",
    "                        )\n",
    "\n",
    "            plt.xlabel(r\"$\\mu$ (eV)\", fontsize=30)\n",
    "            plt.xlim(xlim)\n",
    "\n",
    "        elif prop_z == \"temp\" and prop_x == \"doping\":\n",
    "            for j, temp in enumerate(temps):\n",
    "                ti = temps_all.index(temp)\n",
    "                prop_out = np.linalg.eigh(p_array[dop_type][ti])[0]\n",
    "                if output == \"avg_eigs\":\n",
    "                    plt.semilogx(doping_all, prop_out.mean(axis=1), label=str(temp) + \" K\", linestyle=linestyles[j][1], marker=markers[j], markevery=markevery, color=colors[j])\n",
    "                elif output == \"eigs\":\n",
    "                    for i in range(3):\n",
    "                        plt.plot(\n",
    "                            doping_all,\n",
    "                            prop_out[:, i],\n",
    "                            label=\"eig \" + str(i) + \" \" + str(temp) + \" K\", linestyle=linestyles[i][1], marker=markers[i], markevery=markevery, color=colors[i]\n",
    "                        )\n",
    "            plt.xlabel(r\"Carrier conc. $cm^{-3}$\", fontsize=30)\n",
    "            leg_title = dop_type + \"-type\"\n",
    "\n",
    "        elif prop_z == \"doping\" and prop_x == \"temp\":\n",
    "            for j, dop in enumerate(doping):\n",
    "                di = doping_all.index(dop)\n",
    "                prop_out = np.linalg.eigh(p_array[dop_type][:, di])[0]\n",
    "                if output == \"avg_eigs\":\n",
    "                    plt.plot(\n",
    "                        temps_all,\n",
    "                        prop_out.mean(axis=1),\n",
    "                        label=np.format_float_scientific(dop, unique=False, precision=2) + \" $cm^{-3}$\", linestyle=linestyles[j][1], marker=markers[j], markevery=markevery, color=colors[j]\n",
    "                    )\n",
    "                elif output == \"eigs\":\n",
    "                    for i in range(3):\n",
    "                        plt.plot(\n",
    "                            temps_all,\n",
    "                            prop_out[:, i],\n",
    "                            label=\"eig \" + str(i) + \" \" + np.format_float_scientific(dop, unique=False, precision=2) + \" $cm^{-3}$\", linestyle=linestyles[i][1], marker=markers[i], markevery=markevery, color=colors[i]\n",
    "                        )\n",
    "\n",
    "            plt.xlabel(r\"Temperature (K)\", fontsize=30)\n",
    "            leg_title = dop_type + \"-type\"\n",
    "\n",
    "        plt.ylabel(props_lbl[idx_prop] + \" \" + props_unit[idx_prop], fontsize=30)\n",
    "        plt.xticks(fontsize=25)\n",
    "        plt.yticks(fontsize=25)\n",
    "        plt.legend(title=leg_title, fontsize=15)\n",
    "        plt.tight_layout()\n",
    "        plt.grid()\n",
    "        return plt"
   ]
  },
  {
   "cell_type": "markdown",
   "id": "b0e86b1b-8e56-4350-a722-6a1798e8a795",
   "metadata": {
    "tags": []
   },
   "source": [
    "# Functions"
   ]
  },
  {
   "cell_type": "code",
   "execution_count": 76,
   "id": "82403950-c8d3-43c4-a304-06f72e33ae1d",
   "metadata": {},
   "outputs": [
    {
     "name": "stderr",
     "output_type": "stream",
     "text": [
      "/Users/max/opt/anaconda3/envs/boltztrap2/lib/python3.9/site-packages/pymatgen/io/vasp/inputs.py:1732: UserWarning: Ignoring unknown variable type SHA256\n",
      "  warnings.warn(f\"Ignoring unknown variable type {key}\")\n",
      "/Users/max/opt/anaconda3/envs/boltztrap2/lib/python3.9/site-packages/pymatgen/io/vasp/inputs.py:1732: UserWarning: Ignoring unknown variable type COPYR\n",
      "  warnings.warn(f\"Ignoring unknown variable type {key}\")\n"
     ]
    }
   ],
   "source": [
    "def gather_element_data(el):\n",
    "    vrun = Vasprun(f'{fp_for_element(el)}vasprun.xml', parse_projected_eigen=True)\n",
    "    data = VasprunBSLoader(vrun)\n",
    "    \n",
    "    if save_to_disk:\n",
    "        bztInterp = BztInterpolator(data,lpfac=10,energy_range=energy_range,curvature=True,save_bztInterp=True, fname=f'{fp_for_element(el)}bztInterp.json.gz')\n",
    "    elif load_from_disk:\n",
    "        bztInterp = BztInterpolator(data, load_bztInterp=True, fname=f'{fp_for_element(el)}bztInterp.json.gz')\n",
    "        \n",
    "    if save_to_disk:\n",
    "        bztTransp = BztTransportProperties(bztInterp, temp_r=temp_r, doping=dopings_r, save_bztTranspProps=True, fname=f'{fp_for_element(el)}bztTranspProps.json.gz')\n",
    "    elif load_from_disk:\n",
    "        bztTransp = BztTransportProperties(bztInterp, load_bztTranspProps=True, fname=f'{fp_for_element(el)}bztTranspProps.json.gz')\n",
    "        \n",
    "    bztTransp.compute_properties_doping(doping=dopings_r)\n",
    "    \n",
    "    bztPlotter = MyBztPlotter(bztTransp,bztInterp)\n",
    "    \n",
    "    return {\n",
    "        'data': data,\n",
    "        'interp': bztInterp,\n",
    "        'transp': bztTransp,\n",
    "        'plotter': bztPlotter\n",
    "    }\n",
    "\n",
    "element_data = {}\n",
    "for k, v in elements.items():\n",
    "    for defect_name in v:\n",
    "        el_data = gather_element_data(f'{k}-{defect_name}')\n",
    "        element_data[f'{k}-{defect_name}'] = el_data\n",
    "    \n",
    "    el_data = gather_element_data(k)\n",
    "    element_data[k] = el_data"
   ]
  },
  {
   "cell_type": "code",
   "execution_count": 19,
   "id": "707b6537-d6b4-4686-96b1-0a3c0dbca314",
   "metadata": {},
   "outputs": [],
   "source": [
    "def make_plt():\n",
    "    return plt.figure(figsize=(10, 8))\n",
    "\n",
    "def save_plt(ax, name):\n",
    "    matplotlib.use('pgf')\n",
    "    ax.savefig(f'figures/{name}.pdf', backend='pgf')\n",
    "    ax.close()"
   ]
  },
  {
   "cell_type": "markdown",
   "id": "7c44aaaf-fe93-4bba-8b6e-0482949298b3",
   "metadata": {
    "tags": []
   },
   "source": [
    "# Plots"
   ]
  },
  {
   "cell_type": "code",
   "execution_count": 20,
   "id": "f80b3860-e4e2-49e9-a85b-38333dadc1d4",
   "metadata": {},
   "outputs": [],
   "source": [
    "colors = ['#377eb8', '#ff7f00', '#4daf4a',\n",
    "           '#f781bf', '#a65628', '#984ea3',\n",
    "           '#999999', '#e41a1c', '#dede00']\n",
    "\n",
    "linestyles = [\n",
    "    ('solid', 'solid'),      # Same as (0, ()) or '-'\n",
    "     ('dotted', 'dotted'),    # Same as (0, (1, 1)) or ':'\n",
    "     ('dashed', 'dashed'),    # Same as '--'\n",
    "     ('dashdot', 'dashdot'),  # Same as '-.'\n",
    "     ('long dash with offset', (5, (10, 3))),\n",
    "     ('densely dashed',        (0, (5, 1))),\n",
    "\n",
    "     ('densely dashdotted',    (0, (3, 1, 1, 1))),\n",
    "\n",
    "     ('dashdotdotted',         (0, (3, 5, 1, 5, 1, 5))),\n",
    "     ('loosely dashdotdotted', (0, (3, 10, 1, 10, 1, 10))),\n",
    "     ('densely dashdotdotted', (0, (3, 1, 1, 1, 1, 1)))]\n",
    "\n",
    "markers = ['o', 'v', 's',\n",
    "          'X', 'd', '*',\n",
    "          'x', 'P', '2']"
   ]
  },
  {
   "cell_type": "markdown",
   "id": "23be0159-3f15-4667-909f-4ba7c4fb38a5",
   "metadata": {
    "tags": []
   },
   "source": [
    "## Partial DoS"
   ]
  },
  {
   "cell_type": "code",
   "execution_count": 105,
   "id": "6ed612c8-d4d2-4828-a560-e973bf8d796f",
   "metadata": {},
   "outputs": [
    {
     "name": "stderr",
     "output_type": "stream",
     "text": [
      "200it [03:07,  1.07it/s]                                                        \n"
     ]
    }
   ],
   "source": [
    "tot_proj_dosMo3Si2 = element_data['Mo3Si2']['interp'].get_dos(partial_dos=True, progress=True)"
   ]
  },
  {
   "cell_type": "code",
   "execution_count": 202,
   "id": "dc8bd57b-eb21-4f6f-af8a-d760e1334d1b",
   "metadata": {},
   "outputs": [],
   "source": [
    "pltdos = DosPlotter(sigma=0.03)\n",
    "pltdos.add_dos_dict(tot_proj_dosMo3Si2.get_element_dos())\n",
    "p = pltdos.get_plot()\n",
    "p.xlim(eranget)\n",
    "p.gcf().set_size_inches(12, 3)\n",
    "p.ylabel('DoS')\n",
    "p.locator_params(axis='y', nbins=6)\n",
    "save_plt(p, \"partial_dos_Mo3Si2\")"
   ]
  },
  {
   "cell_type": "code",
   "execution_count": 106,
   "id": "e1300009-a539-495a-a0b8-26f3436dc6c5",
   "metadata": {},
   "outputs": [
    {
     "name": "stderr",
     "output_type": "stream",
     "text": [
      "60it [16:17, 16.29s/it]                                                         \n"
     ]
    }
   ],
   "source": [
    "tot_proj_dosMoSi2T = element_data['MoSi2 tetragonal']['interp'].get_dos(partial_dos=True, progress=True)\n",
    "pltdos = DosPlotter(sigma=0.004, fig_size=(10,4))\n",
    "pltdos.add_dos_dict(tot_proj_dosMoSi2T.get_element_dos())\n",
    "save_plt(pltdos.get_plot(), \"partial_dos_MoSi2_tetragonal\")"
   ]
  },
  {
   "cell_type": "code",
   "execution_count": 107,
   "id": "615d97c9-6ebb-4c70-9f63-7e26cae471f2",
   "metadata": {},
   "outputs": [
    {
     "name": "stderr",
     "output_type": "stream",
     "text": [
      "180it [02:52,  1.04it/s]                                                        \n"
     ]
    }
   ],
   "source": [
    "tot_proj_dosMoSi2H = element_data['MoSi2 hexagonal']['interp'].get_dos(partial_dos=True, progress=True)\n",
    "pltdos = DosPlotter(sigma=0.004)\n",
    "pltdos.add_dos_dict(tot_proj_dosMoSi2H.get_element_dos())\n",
    "save_plt(pltdos.get_plot(), \"partial_dos_MoSi2_hexagonal\")"
   ]
  },
  {
   "cell_type": "markdown",
   "id": "e8c9c02a-cac9-4011-a3a6-29565673a702",
   "metadata": {
    "tags": []
   },
   "source": [
    "## Band structure"
   ]
  },
  {
   "cell_type": "code",
   "execution_count": 102,
   "id": "c59be87d-29d4-4463-9ae4-5ccfe53af98d",
   "metadata": {},
   "outputs": [
    {
     "name": "stderr",
     "output_type": "stream",
     "text": [
      "/Users/max/opt/anaconda3/envs/boltztrap2/lib/python3.9/site-packages/pymatgen/electronic_structure/plotter.py:745: UserWarning: Matplotlib is currently using pgf, which is a non-GUI backend, so cannot show the figure.\n",
      "  plt.show()\n"
     ]
    }
   ],
   "source": [
    "kpaths = [[\"Γ\", \"X\", \"M\", \"Γ\", \"Z\", \"R\", \"A\", \"Z\"], [\"X\", \"R\"], [\"M\", \"A\"]]\n",
    "\n",
    "kp_lbl = {\"A\":np.array([0.5000000000, 0.5000000000, 0.5000000000]),\n",
    "          \"Γ\":np.array([0.0000000000, 0.0000000000, 0.0000000000]),\n",
    "          \"M\":np.array([0.5000000000, 0.5000000000, 0.0000000000]),\n",
    "          \"R\":np.array([0.0000000000, 0.5000000000, 0.5000000000]),\n",
    "          \"X\":np.array([0.0000000000, 0.5000000000, 0.0000000000]),\n",
    "          \"Z\":np.array([0.0000000000, 0.0000000000, 0.5000000000]),\n",
    "          }\n",
    "\n",
    "sbs = element_data['Mo3Si2']['interp'].get_band_structure(kpaths,kp_lbl)\n",
    "BSPlotter(sbs).show(ylim=[-energy_range, energy_range/2])\n",
    "save_plt(BSPlotter(sbs).get_plot(ylim=[-energy_range, energy_range/2]), \"bs_Mo3Si2\")"
   ]
  },
  {
   "cell_type": "code",
   "execution_count": 103,
   "id": "725f5591-09a7-4528-a409-45acb1d7e6a4",
   "metadata": {},
   "outputs": [
    {
     "name": "stderr",
     "output_type": "stream",
     "text": [
      "/Users/max/opt/anaconda3/envs/boltztrap2/lib/python3.9/site-packages/pymatgen/electronic_structure/plotter.py:745: UserWarning: Matplotlib is currently using pgf, which is a non-GUI backend, so cannot show the figure.\n",
      "  plt.show()\n"
     ]
    }
   ],
   "source": [
    "kpaths = [[\"Γ\", \"X\", \"P\", \"N\", \"Γ\", \"M\", \"S\"], [\"S0\", \"Γ\"], [\"X\", \"R\"], [\"G\", \"M\"]]\n",
    "\n",
    "kp_lbl = {\"G\":np.array([0.5000000000, 0.5000000000, -0.0834984314]),\n",
    "          \"Γ\":np.array([0.0000000000, 0.0000000000, 0.0000000000]),\n",
    "          \"M\":np.array([0.5000000000, 0.5000000000, -0.5000000000]),\n",
    "          \"N\":np.array([0.0000000000, 0.5000000000, 0.0000000000]),\n",
    "          \"P\":np.array([0.2500000000, 0.2500000000, 0.2500000000]),\n",
    "          \"R\":np.array([-0.0834984314, 0.0834984314, 0.5000000000]),\n",
    "          \"S\":np.array([0.2917492157, 0.7082507843, -0.2917492157]),\n",
    "          \"S0\":np.array([-0.2917492157, 0.2917492157, 0.2917492157]),\n",
    "          \"X\":np.array([0.0000000000, 0.0000000000, 0.5000000000]),\n",
    "          }\n",
    "\n",
    "sbs = element_data['MoSi2 tetragonal']['interp'].get_band_structure(kpaths,kp_lbl)\n",
    "BSPlotter(sbs).show(ylim=[-energy_range, energy_range/2])\n",
    "save_plt(BSPlotter(sbs).get_plot(ylim=[-energy_range, energy_range/2]), \"bs_MoSi2_tetragonal\")"
   ]
  },
  {
   "cell_type": "code",
   "execution_count": 104,
   "id": "d91d5c1a-8eeb-4306-88c0-997a043b565b",
   "metadata": {},
   "outputs": [
    {
     "name": "stderr",
     "output_type": "stream",
     "text": [
      "/Users/max/opt/anaconda3/envs/boltztrap2/lib/python3.9/site-packages/pymatgen/electronic_structure/plotter.py:745: UserWarning: Matplotlib is currently using pgf, which is a non-GUI backend, so cannot show the figure.\n",
      "  plt.show()\n"
     ]
    }
   ],
   "source": [
    "kpaths = [[\"Γ\", \"M\", \"K\", \"Γ\", \"A\", \"L\", \"H\", \"A\"], [\"L\", \"M\"], [\"H\", \"K\"]]\n",
    "\n",
    "kp_lbl = {\"A\":np.array([0.0000000000, 0.0000000000, 0.5000000000]),\n",
    "          \"A'\":np.array([-0.0000000000, -0.0000000000, -0.5000000000]),\n",
    "          \"Γ\":np.array([0.0000000000, 0.0000000000, 0.0000000000]),\n",
    "          \"H\":np.array([0.3333333333, 0.3333333333, 0.5000000000]),\n",
    "          \"H'\":np.array([-0.3333333333, -0.3333333333, -0.5000000000]),\n",
    "          \"H2\":np.array([0.3333333333, 0.3333333333, -0.5000000000]),\n",
    "          \"H2'\":np.array([-0.3333333333, -0.3333333333, 0.5000000000]),\n",
    "          \"K\":np.array([0.3333333333, 0.3333333333, 0.0000000000]),\n",
    "          \"K'\":np.array([-0.3333333333, -0.3333333333, -0.0000000000]),\n",
    "          \"L\":np.array([0.5000000000, 0.0000000000, 0.5000000000]),\n",
    "          \"L'\":np.array([-0.5000000000, -0.0000000000, -0.5000000000]),\n",
    "          \"M\":np.array([0.5000000000, 0.0000000000, 0.0000000000]),\n",
    "          \"M'\":np.array([-0.5000000000, -0.0000000000, -0.0000000000]),\n",
    "          }\n",
    "\n",
    "sbs = element_data['MoSi2 hexagonal']['interp'].get_band_structure(kpaths,kp_lbl)\n",
    "BSPlotter(sbs).show(ylim=[-energy_range, energy_range/2])\n",
    "save_plt(BSPlotter(sbs).get_plot(ylim=[-energy_range, energy_range/2]), \"bs_MoSi2_hexagonal\")"
   ]
  },
  {
   "cell_type": "markdown",
   "id": "2f03d1e9-5370-4032-a71e-5fe5f39a996f",
   "metadata": {
    "tags": []
   },
   "source": [
    "## Energy comparisons"
   ]
  },
  {
   "cell_type": "code",
   "execution_count": 238,
   "id": "e28ff885-1fd0-418e-8575-2dec54fa9781",
   "metadata": {},
   "outputs": [],
   "source": [
    "ax = make_plt()\n",
    "for i, k in enumerate(element_data.keys()):\n",
    "    ax = element_data[k]['plotter'].plot_props_mul('S','mu','temp',temps=temp,ax=ax,label=k,marker=markers[i],markevery=100,color=colors[i],linestyle=linestyles[i][1])\n",
    "\n",
    "ax.xlim(eranget)\n",
    "ax.ylim((-300,250))\n",
    "\n",
    "p.legend().remove()\n",
    "\n",
    "p.gcf().set_size_inches(12, 3)\n",
    "plt.tick_params(axis='x', left=False, top=False, right=False, bottom=False, labelleft=False, labeltop=False, labelright=False, labelbottom=False)\n",
    "ax.xlabel('')\n",
    "\n",
    "# p.ylabel('DoS')\n",
    "# p.locator_params(axis='y', nbins=6)\n",
    "\n",
    "save_plt(ax, \"allmats_S_mu_temp\")"
   ]
  },
  {
   "cell_type": "code",
   "execution_count": 260,
   "id": "7d879540-2549-49e0-a0f7-98c7957baa8c",
   "metadata": {},
   "outputs": [],
   "source": [
    "ax = make_plt()\n",
    "for i, k in enumerate(element_data.keys()):\n",
    "    ax = element_data[k]['plotter'].plot_props_mul('C','mu','temp',temps=temp,ax=ax,label=k,marker=markers[i],markevery=100,color=colors[i],linestyle=linestyles[i][1])\n",
    "\n",
    "ax.xlim(eranget)\n",
    "ax.ylim((-0.1e7,1.5e7))\n",
    "\n",
    "p.legend().remove()\n",
    "\n",
    "# p.gcf().set_size_inches(12, 3)\n",
    "# plt.tick_params(axis='x', left=False, top=False, right=False, bottom=False, labelleft=False, labeltop=False, labelright=False, labelbottom=False)\n",
    "# ax.xlabel('')\n",
    "\n",
    "# p.ylabel('DoS')\n",
    "p.locator_params(axis='y', nbins=4)\n",
    "\n",
    "save_plt(ax, \"allmats_C_mu_temp\")"
   ]
  },
  {
   "cell_type": "code",
   "execution_count": 257,
   "id": "290b6a4e-11ab-4fd4-a2b8-d008521fcf3e",
   "metadata": {},
   "outputs": [],
   "source": [
    "ax = make_plt()\n",
    "for i, k in enumerate(element_data.keys()):\n",
    "    ax = element_data[k]['plotter'].plot_props_mul('Po','mu','temp',temps=temp,ax=ax,label=k,marker=markers[i],markevery=100,color=colors[i],linestyle=linestyles[i][1])\n",
    "\n",
    "ax.xlim(eranget)\n",
    "ax.ylim((-0.5,13))\n",
    "\n",
    "p.legend().remove()\n",
    "\n",
    "p.gcf().set_size_inches(12, 3)\n",
    "plt.tick_params(axis='x', left=False, top=False, right=False, bottom=False, labelleft=False, labeltop=False, labelright=False, labelbottom=False)\n",
    "ax.xlabel('')\n",
    "\n",
    "# p.ylabel('DoS')\n",
    "p.locator_params(axis='y', nbins=4)\n",
    "\n",
    "save_plt(ax, \"allmats_Po_mu_temp\")"
   ]
  },
  {
   "cell_type": "code",
   "execution_count": 259,
   "id": "4b4831fd-d109-4749-b49f-9e70c51b289d",
   "metadata": {},
   "outputs": [],
   "source": [
    "ax = make_plt()\n",
    "for i, k in enumerate(element_data.keys()):\n",
    "    ax = element_data[k]['plotter'].plot_props_mul('E','mu','temp',temps=temp,ax=ax,label=k,marker=markers[i],markevery=100,color=colors[i],linestyle=linestyles[i][1])\n",
    "\n",
    "ax.xlim(eranget)\n",
    "ax.ylim((-1000,20000))\n",
    "\n",
    "p.legend().remove()\n",
    "\n",
    "p.gcf().set_size_inches(12, 3)\n",
    "plt.tick_params(axis='x', left=False, top=False, right=False, bottom=False, labelleft=False, labeltop=False, labelright=False, labelbottom=False)\n",
    "ax.xlabel('')\n",
    "\n",
    "# p.ylabel('DoS')\n",
    "p.locator_params(axis='y', nbins=6)\n",
    "\n",
    "save_plt(ax, \"allmats_E_mu_temp\")"
   ]
  },
  {
   "cell_type": "markdown",
   "id": "01908875-803f-44ce-9e56-1c8264fe7ade",
   "metadata": {
    "jp-MarkdownHeadingCollapsed": true,
    "tags": []
   },
   "source": [
    "## Seebeck coefficient as function of..."
   ]
  },
  {
   "cell_type": "code",
   "execution_count": 77,
   "id": "ed65c0bb-dea4-474f-9f1b-9688ea1d327d",
   "metadata": {},
   "outputs": [],
   "source": [
    "ax = make_plt()\n",
    "for i, k in enumerate(element_data.keys()):\n",
    "    ax = element_data[k]['plotter'].plot_props_mul('S','doping','temp',temps=temp,ax=ax,label=k,marker=markers[i],markevery=8,color=colors[i],linestyle=linestyles[i][1])\n",
    "    \n",
    "save_plt(ax, \"allmats_S_doping_temp\")"
   ]
  },
  {
   "cell_type": "code",
   "execution_count": 78,
   "id": "6038ea4f-cf13-4ad1-9b34-093fbe7605ce",
   "metadata": {},
   "outputs": [],
   "source": [
    "ax = make_plt()\n",
    "for i, k in enumerate(element_data.keys()):\n",
    "    ax = element_data[k]['plotter'].plot_props_mul('S','temp','doping',doping=dopings_arr[:1], dop_type=doping_type,ax=ax,label=k,marker=markers[i],markevery=1,color=colors[i],linestyle=linestyles[i][1])\n",
    "\n",
    "save_plt(ax, \"allmats_S_temp_doping\")"
   ]
  },
  {
   "cell_type": "code",
   "execution_count": 134,
   "id": "55f83f15-3d93-4c0c-aa2d-f205a374c8ee",
   "metadata": {},
   "outputs": [],
   "source": [
    "ax = make_plt()\n",
    "for i, k in enumerate(element_data.keys()):\n",
    "    ax = element_data[k]['plotter'].plot_props_mul('S','mu','temp',temps=temp,ax=ax,label=k,marker=markers[i],markevery=100,color=colors[i],linestyle=linestyles[i][1])\n",
    "\n",
    "ax.xlim(eranget)\n",
    "ax.ylim((-300,250))\n",
    "\n",
    "save_plt(ax, \"allmats_S_mu_temp\")"
   ]
  },
  {
   "cell_type": "code",
   "execution_count": 80,
   "id": "d010e796-ea0c-4aaa-b95f-834816cace7c",
   "metadata": {},
   "outputs": [],
   "source": [
    "for k in element_data.keys():\n",
    "    ax = make_plt()\n",
    "    ax = element_data[k]['plotter'].plot_props('S','doping','temp',temps=temps,ax=ax)\n",
    "    save_plt(ax, f\"{k}_S_doping_temps\")"
   ]
  },
  {
   "cell_type": "code",
   "execution_count": 81,
   "id": "68ac71ce-f17d-4593-9b1d-f25276c4b804",
   "metadata": {},
   "outputs": [],
   "source": [
    "for k in element_data.keys():\n",
    "    ax = make_plt()\n",
    "    ax = element_data[k]['plotter'].plot_props('S','temp','doping',doping=dopings_arr, dop_type=doping_type,ax=ax)\n",
    "    save_plt(ax, f\"{k}_S_temp_dopings\")"
   ]
  },
  {
   "cell_type": "code",
   "execution_count": 82,
   "id": "a8ba1afb-489f-4d38-a095-d942c0e0103d",
   "metadata": {},
   "outputs": [],
   "source": [
    "for k in element_data.keys():\n",
    "    ax = make_plt()\n",
    "    ax = element_data[k]['plotter'].plot_props('S','mu','temp',temps=temps,ax=ax,markevery=100)\n",
    "    save_plt(ax, f\"{k}_S_mu_temps\")"
   ]
  },
  {
   "cell_type": "markdown",
   "id": "11a60307-8b89-4c5a-a634-516b51826390",
   "metadata": {
    "jp-MarkdownHeadingCollapsed": true,
    "tags": []
   },
   "source": [
    "## Electronic conductivity as function of..."
   ]
  },
  {
   "cell_type": "code",
   "execution_count": 83,
   "id": "7d12cda6-ddd5-4bfb-9531-85de648bee4f",
   "metadata": {},
   "outputs": [],
   "source": [
    "ax = make_plt()\n",
    "for i, k in enumerate(element_data.keys()):\n",
    "    ax = element_data[k]['plotter'].plot_props_mul('C','doping','temp',temps=temp,ax=ax,label=k,marker=markers[i],markevery=8,color=colors[i],linestyle=linestyles[i][1])\n",
    "\n",
    "save_plt(ax, \"allmats_C_doping_temp\")"
   ]
  },
  {
   "cell_type": "code",
   "execution_count": 84,
   "id": "636c4f9e-2c1d-4a0e-b2f1-4118e8467261",
   "metadata": {},
   "outputs": [],
   "source": [
    "ax = make_plt()\n",
    "for i, k in enumerate(element_data.keys()):\n",
    "    ax = element_data[k]['plotter'].plot_props_mul('C','temp','doping',doping=dopings_arr[:1], dop_type=doping_type,ax=ax,label=k,marker=markers[i],markevery=1,color=colors[i],linestyle=linestyles[i][1])\n",
    "\n",
    "save_plt(ax, \"allmats_C_temp_doping\")"
   ]
  },
  {
   "cell_type": "code",
   "execution_count": 127,
   "id": "ba34ef26-7842-4316-a9b6-b8104c1c9aed",
   "metadata": {},
   "outputs": [],
   "source": [
    "ax = make_plt()\n",
    "for i, k in enumerate(element_data.keys()):\n",
    "    ax = element_data[k]['plotter'].plot_props_mul('C','mu','temp',temps=temp,ax=ax,label=k,marker=markers[i],markevery=100,color=colors[i],linestyle=linestyles[i][1])\n",
    "\n",
    "ax.xlim(eranget)\n",
    "ax.ylim((-0.1e7,1.75e7))\n",
    "\n",
    "save_plt(ax, \"allmats_C_mu_temp\")"
   ]
  },
  {
   "cell_type": "code",
   "execution_count": 86,
   "id": "eba7a131-e928-4b92-ba26-b25d7c44a448",
   "metadata": {},
   "outputs": [],
   "source": [
    "for k in element_data.keys():\n",
    "    ax = make_plt()\n",
    "    ax = element_data[k]['plotter'].plot_props('C','doping','temp',temps=temps,ax=ax)\n",
    "    save_plt(ax, f\"{k}_C_doping_temps\")"
   ]
  },
  {
   "cell_type": "code",
   "execution_count": 87,
   "id": "cf57e1f4-fbf9-4519-8877-9be065c8901f",
   "metadata": {},
   "outputs": [],
   "source": [
    "for k in element_data.keys():\n",
    "    ax = make_plt()\n",
    "    ax = element_data[k]['plotter'].plot_props('C','temp','doping',doping=dopings_arr, dop_type=doping_type,ax=ax)\n",
    "    save_plt(ax, f\"{k}_C_temp_dopings\")"
   ]
  },
  {
   "cell_type": "code",
   "execution_count": 88,
   "id": "510799be-de99-4696-9766-7bb56bea41ee",
   "metadata": {},
   "outputs": [],
   "source": [
    "for k in element_data.keys():\n",
    "    ax = make_plt()\n",
    "    ax = element_data[k]['plotter'].plot_props('C','mu','temp',temps=temps,ax=ax,markevery=100)\n",
    "    save_plt(ax, f\"{k}_C_mu_temps\")"
   ]
  },
  {
   "cell_type": "markdown",
   "id": "1f2dd065-0762-4079-b691-63262b64631d",
   "metadata": {
    "jp-MarkdownHeadingCollapsed": true,
    "tags": []
   },
   "source": [
    "## Power factor as function of..."
   ]
  },
  {
   "cell_type": "code",
   "execution_count": 89,
   "id": "076e3616-0bb3-4501-bfe9-a133cdf92863",
   "metadata": {},
   "outputs": [],
   "source": [
    "ax = make_plt()\n",
    "for i, k in enumerate(element_data.keys()):\n",
    "    ax = element_data[k]['plotter'].plot_props_mul('Po','doping','temp',temps=temp,ax=ax,label=k,marker=markers[i],markevery=8,color=colors[i],linestyle=linestyles[i][1])\n",
    "\n",
    "save_plt(ax, \"allmats_Po_doping_temp\")"
   ]
  },
  {
   "cell_type": "code",
   "execution_count": 90,
   "id": "241c4133-a51d-41d9-a3da-1a98cfb28a9f",
   "metadata": {},
   "outputs": [],
   "source": [
    "ax = make_plt()\n",
    "for i, k in enumerate(element_data.keys()):\n",
    "    ax = element_data[k]['plotter'].plot_props_mul('Po','temp','doping',doping=dopings_arr[:1], dop_type=doping_type,ax=ax,label=k,marker=markers[i],markevery=1,color=colors[i],linestyle=linestyles[i][1])\n",
    "\n",
    "save_plt(ax, \"allmats_Po_temp_doping\")"
   ]
  },
  {
   "cell_type": "code",
   "execution_count": 130,
   "id": "c22cf05f-24f5-4491-bfc6-36fd00920e16",
   "metadata": {},
   "outputs": [],
   "source": [
    "ax = make_plt()\n",
    "for i, k in enumerate(element_data.keys()):\n",
    "    ax = element_data[k]['plotter'].plot_props_mul('Po','mu','temp',temps=temp,ax=ax,label=k,marker=markers[i],markevery=100,color=colors[i],linestyle=linestyles[i][1])\n",
    "\n",
    "ax.xlim(eranget)\n",
    "ax.ylim((-0.5,14))\n",
    "\n",
    "save_plt(ax, \"allmats_Po_mu_temp\")"
   ]
  },
  {
   "cell_type": "code",
   "execution_count": 92,
   "id": "c98ee27b-1b08-4fbd-a262-58307b9faa72",
   "metadata": {},
   "outputs": [],
   "source": [
    "for k in element_data.keys():\n",
    "    ax = make_plt()\n",
    "    ax = element_data[k]['plotter'].plot_props('Po','doping','temp',temps=temps,ax=ax)\n",
    "    save_plt(ax, f\"{k}_Po_doping_temps\")"
   ]
  },
  {
   "cell_type": "code",
   "execution_count": 93,
   "id": "c4ebbe56-96b8-4a6a-86de-3fef88d9a90a",
   "metadata": {},
   "outputs": [],
   "source": [
    "for k in element_data.keys():\n",
    "    ax = make_plt()\n",
    "    ax = element_data[k]['plotter'].plot_props('Po','temp','doping',doping=dopings_arr, dop_type=doping_type,ax=ax)\n",
    "    save_plt(ax, f\"{k}_Po_temp_dopings\")"
   ]
  },
  {
   "cell_type": "code",
   "execution_count": 94,
   "id": "8438814a-a45a-47eb-b92e-7453fea65e7f",
   "metadata": {},
   "outputs": [],
   "source": [
    "for k in element_data.keys():\n",
    "    ax = make_plt()\n",
    "    ax = element_data[k]['plotter'].plot_props('Po','mu','temp',temps=temps,ax=ax,markevery=100)\n",
    "    save_plt(ax, f\"{k}_Po_mu_temps\")"
   ]
  },
  {
   "cell_type": "markdown",
   "id": "7f063824-f518-4b5a-a8df-b566c0970a54",
   "metadata": {
    "tags": []
   },
   "source": [
    "## Effective mass as function of..."
   ]
  },
  {
   "cell_type": "code",
   "execution_count": 96,
   "id": "33e188a7-a87f-4e15-ae4b-d6216b9d8fda",
   "metadata": {},
   "outputs": [],
   "source": [
    "ax = make_plt()\n",
    "# ax.ticklabel_format(style='sci', axis='y', scilimits=(0,0))\n",
    "for i, k in enumerate(element_data.keys()):\n",
    "    ax = element_data[k]['plotter'].plot_props_mul('E','doping','temp',temps=temp,ax=ax,label=k,marker=markers[i],markevery=8,color=colors[i],linestyle=linestyles[i][1])\n",
    "\n",
    "save_plt(ax, \"allmats_E_doping_temp\")"
   ]
  },
  {
   "cell_type": "code",
   "execution_count": 97,
   "id": "d00b2d0c-4ab5-48cf-abe3-af66e2fd3f18",
   "metadata": {},
   "outputs": [],
   "source": [
    "ax = make_plt()\n",
    "for i, k in enumerate(element_data.keys()):\n",
    "    ax = element_data[k]['plotter'].plot_props_mul('E','temp','doping',doping=dopings_arr[:1], dop_type=doping_type,ax=ax,label=k,marker=markers[i],markevery=1,color=colors[i],linestyle=linestyles[i][1])\n",
    "\n",
    "save_plt(ax, \"allmats_E_temp_doping\")"
   ]
  },
  {
   "cell_type": "code",
   "execution_count": 121,
   "id": "710e853f-31a1-4249-b8b3-2279188582fc",
   "metadata": {},
   "outputs": [],
   "source": [
    "ax = make_plt()\n",
    "for i, k in enumerate(element_data.keys()):\n",
    "    ax = element_data[k]['plotter'].plot_props_mul('E','mu','temp',temps=temp,ax=ax,label=k,marker=markers[i],markevery=100,color=colors[i],linestyle=linestyles[i][1])\n",
    "\n",
    "ax.xlim(eranget)\n",
    "ax.ylim((-1000,20000))\n",
    "\n",
    "save_plt(ax, \"allmats_E_mu_temp\")"
   ]
  },
  {
   "cell_type": "code",
   "execution_count": 99,
   "id": "675b7533-d93f-4727-a6f5-c0bf9ef14022",
   "metadata": {},
   "outputs": [],
   "source": [
    "for k in element_data.keys():\n",
    "    ax = make_plt()\n",
    "    ax = element_data[k]['plotter'].plot_props('E','doping','temp',temps=temps,ax=ax)\n",
    "    save_plt(ax, f\"{k}_E_doping_temps\")"
   ]
  },
  {
   "cell_type": "code",
   "execution_count": 100,
   "id": "19774671-d3f6-4abb-a1c4-a3ac9d0856b0",
   "metadata": {},
   "outputs": [],
   "source": [
    "for k in element_data.keys():\n",
    "    ax = make_plt()\n",
    "    ax = element_data[k]['plotter'].plot_props('E','temp','doping',doping=dopings_arr, dop_type=doping_type,ax=ax)\n",
    "    save_plt(ax, f\"{k}_E_temp_dopings\")"
   ]
  },
  {
   "cell_type": "code",
   "execution_count": 101,
   "id": "f57f1fc4-b5d6-47bd-8517-c9b24147a995",
   "metadata": {},
   "outputs": [],
   "source": [
    "for k in element_data.keys():\n",
    "    ax = make_plt()\n",
    "    ax = element_data[k]['plotter'].plot_props('E','mu','temp',temps=temps,ax=ax,markevery=100)\n",
    "    save_plt(ax, f\"{k}_E_mu_temps\")"
   ]
  },
  {
   "cell_type": "markdown",
   "id": "5ad095f2-c77b-4c72-bfd0-46a0563115ad",
   "metadata": {
    "tags": []
   },
   "source": [
    "# Other"
   ]
  },
  {
   "cell_type": "code",
   "execution_count": 103,
   "id": "d1c330f2-20f4-45d7-8b27-16343629ed54",
   "metadata": {},
   "outputs": [
    {
     "name": "stdout",
     "output_type": "stream",
     "text": [
      "Temp\t\\mu\trows\tcolumns tensor\n"
     ]
    },
    {
     "ename": "NameError",
     "evalue": "name 'bztTransp' is not defined",
     "output_type": "error",
     "traceback": [
      "\u001b[0;31m---------------------------------------------------------------------------\u001b[0m",
      "\u001b[0;31mNameError\u001b[0m                                 Traceback (most recent call last)",
      "Cell \u001b[0;32mIn[103], line 2\u001b[0m\n\u001b[1;32m      1\u001b[0m \u001b[38;5;28mprint\u001b[39m(\u001b[38;5;124m'\u001b[39m\u001b[38;5;130;01m\\t\u001b[39;00m\u001b[38;5;124m'\u001b[39m\u001b[38;5;241m.\u001b[39mjoin([\u001b[38;5;124m'\u001b[39m\u001b[38;5;124mTemp\u001b[39m\u001b[38;5;124m'\u001b[39m, \u001b[38;5;124m'\u001b[39m\u001b[38;5;124m\\\u001b[39m\u001b[38;5;124mmu\u001b[39m\u001b[38;5;124m'\u001b[39m, \u001b[38;5;124m'\u001b[39m\u001b[38;5;124mrows\u001b[39m\u001b[38;5;124m'\u001b[39m, \u001b[38;5;124m'\u001b[39m\u001b[38;5;124mcolumns tensor\u001b[39m\u001b[38;5;124m'\u001b[39m]))\n\u001b[0;32m----> 2\u001b[0m \u001b[38;5;28;01mfor\u001b[39;00m p \u001b[38;5;129;01min\u001b[39;00m \u001b[43mbztTransp\u001b[49m\u001b[38;5;241m.\u001b[39mConductivity_mu, bztTransp\u001b[38;5;241m.\u001b[39mSeebeck_mu, bztTransp\u001b[38;5;241m.\u001b[39mKappa_mu, \\\n\u001b[1;32m      3\u001b[0m          bztTransp\u001b[38;5;241m.\u001b[39mEffective_mass_mu, bztTransp\u001b[38;5;241m.\u001b[39mPower_Factor_mu, bztTransp\u001b[38;5;241m.\u001b[39mCarrier_conc_mu:\n\u001b[1;32m      4\u001b[0m     \u001b[38;5;28mprint\u001b[39m(\u001b[38;5;124m'\u001b[39m\u001b[38;5;130;01m\\t\u001b[39;00m\u001b[38;5;124m'\u001b[39m\u001b[38;5;241m.\u001b[39mjoin([\u001b[38;5;28mstr\u001b[39m(i) \u001b[38;5;28;01mfor\u001b[39;00m i \u001b[38;5;129;01min\u001b[39;00m p\u001b[38;5;241m.\u001b[39mshape]))\n",
      "\u001b[0;31mNameError\u001b[0m: name 'bztTransp' is not defined"
     ]
    }
   ],
   "source": [
    "print('\\t'.join(['Temp', '\\mu', 'rows', 'columns tensor']))\n",
    "for p in bztTransp.Conductivity_mu, bztTransp.Seebeck_mu, bztTransp.Kappa_mu, \\\n",
    "         bztTransp.Effective_mass_mu, bztTransp.Power_Factor_mu, bztTransp.Carrier_conc_mu:\n",
    "    print('\\t'.join([str(i) for i in p.shape]))"
   ]
  },
  {
   "cell_type": "code",
   "execution_count": null,
   "id": "c1a1b749-45e0-40df-85c7-9710237488d0",
   "metadata": {},
   "outputs": [],
   "source": [
    "bztTransp.compute_properties_doping(doping=dopings_r)"
   ]
  },
  {
   "cell_type": "code",
   "execution_count": null,
   "id": "3247223b-b144-43c1-a475-df32500ad197",
   "metadata": {},
   "outputs": [],
   "source": [
    "print('\\t'.join(['Temp', 'Doping', 'rows', 'columns tensor']))\n",
    "for p in bztTransp.Conductivity_doping, bztTransp.Seebeck_doping, bztTransp.Kappa_doping, \\\n",
    "         bztTransp.Carriers_conc_doping,bztTransp.Effective_mass_doping, bztTransp.Power_Factor_doping:\n",
    "    print('\\t'.join([str(i) for i in p[doping_type].shape]))"
   ]
  }
 ],
 "metadata": {
  "kernelspec": {
   "display_name": "Python 3 (ipykernel)",
   "language": "python",
   "name": "python3"
  },
  "language_info": {
   "codemirror_mode": {
    "name": "ipython",
    "version": 3
   },
   "file_extension": ".py",
   "mimetype": "text/x-python",
   "name": "python",
   "nbconvert_exporter": "python",
   "pygments_lexer": "ipython3",
   "version": "3.9.16"
  }
 },
 "nbformat": 4,
 "nbformat_minor": 5
}
