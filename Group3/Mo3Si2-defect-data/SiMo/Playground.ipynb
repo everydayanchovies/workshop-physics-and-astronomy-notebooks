{
 "cells": [
  {
   "cell_type": "code",
   "execution_count": null,
   "id": "58baf71f-7743-4ea6-b6d5-da5404c5b39e",
   "metadata": {},
   "outputs": [],
   "source": [
    "print(\"Playground notebook\")"
   ]
  },
  {
   "cell_type": "code",
   "execution_count": null,
   "id": "1a666922-eaf6-4a81-ade0-b1a72c768252",
   "metadata": {},
   "outputs": [],
   "source": [
    "%notebook inline"
   ]
  },
  {
   "cell_type": "code",
   "execution_count": null,
   "id": "fae4a116-cef9-41dd-b56c-402cface7d81",
   "metadata": {},
   "outputs": [],
   "source": [
    "from pymatgen.electronic_structure.boltztrap2 import *\n",
    "from monty.serialization import loadfn\n",
    "from pymatgen.electronic_structure.plotter import BSPlotter\n",
    "from pymatgen.electronic_structure.plotter import DosPlotter"
   ]
  },
  {
   "cell_type": "code",
   "execution_count": null,
   "id": "f8b3beb7-1500-48fa-b83a-0338c206656f",
   "metadata": {},
   "outputs": [],
   "source": [
    "vrun = Vasprun('vasprun.xml',parse_projected_eigen=True)\n",
    "data = VasprunBSLoader(vrun)"
   ]
  },
  {
   "cell_type": "code",
   "execution_count": null,
   "id": "bbe17076-4e3d-4e36-8442-5ddeb1fa9fcf",
   "metadata": {},
   "outputs": [],
   "source": [
    "# set curvature=False to speed up in case you do not need effective mass or hall coeficients\n",
    "bztInterp = BztInterpolator(data,lpfac=10,energy_range=10,curvature=True, save_bztInterp=True,fname='bztInterp.json.gz')\n",
    "# bztInterp = BztInterpolator(data,load_bztInterp=True,fname='bztInterp.json.gz')"
   ]
  },
  {
   "cell_type": "markdown",
   "id": "9e4272c5-e046-4555-8fcf-e60eacda9a46",
   "metadata": {},
   "source": [
    "# Compute and plot the band structure on standard symmetry path"
   ]
  },
  {
   "cell_type": "code",
   "execution_count": null,
   "id": "7cc2acb8-8d95-485c-b9f5-0123174fe675",
   "metadata": {},
   "outputs": [],
   "source": [
    "sbs = bztInterp.get_band_structure()\n",
    "list(sbs.bands.values())[0].shape"
   ]
  },
  {
   "cell_type": "code",
   "execution_count": null,
   "id": "0abfbd91-1f27-4593-81bf-6f316d92bb6b",
   "metadata": {},
   "outputs": [],
   "source": [
    "BSPlotter(sbs).show()"
   ]
  },
  {
   "cell_type": "markdown",
   "id": "0bd73df1-e62b-442a-8151-0466dd7ddb54",
   "metadata": {},
   "source": [
    "# On a specific kpoint path"
   ]
  },
  {
   "cell_type": "code",
   "execution_count": null,
   "id": "a62cfd69-806c-472c-849d-10d7e4c0b027",
   "metadata": {},
   "outputs": [],
   "source": [
    "kpaths = [[\"Γ\", \"Y\", \"C0\"], [\"Σ0\", \"Γ\", \"Z\", \"A0\"], [\"E0\", \"T\", \"Y\"], [\"Γ\", \"S\", \"R\", \"Z\", \"T\"], [\"Γ\", \"Y'\", \"C0'\"], [\"Σ0'\", \"Γ\", \"Z'\", \"A0'\"], [\"E0'\", \"T'\", \"Y'\"], [\"Γ\", \"S'\", \"R'\", \"Z'\", \"T'\"]]\n",
    "\n",
    "kp_lbl = {\"A0\":np.array([0.5000000000, 0.5000000000, 0.5000000000]),\n",
    "          \"A0'\":np.array([-0.5000000000, -0.5000000000, -0.5000000000]),\n",
    "          \"C0\":np.array([-0.5000000000, 0.5000000000, 0.0000000000]),\n",
    "          \"C0'\":np.array([0.5000000000, -0.5000000000, -0.0000000000]),\n",
    "          \"E0\":np.array([-0.5000000000, 0.5000000000, 0.5000000000]),\n",
    "          \"E0'\":np.array([0.5000000000, -0.5000000000, -0.5000000000]),\n",
    "          \"Γ\":np.array([0.0000000000, 0.0000000000, 0.0000000000]),\n",
    "          \"R\":np.array([0.0000000000, 0.5000000000, 0.5000000000]),\n",
    "          \"R'\":np.array([-0.0000000000, -0.5000000000, -0.5000000000]),\n",
    "          \"S\":np.array([0.0000000000, 0.5000000000, 0.0000000000]),\n",
    "          \"S'\":np.array([-0.0000000000, -0.5000000000, -0.0000000000]),\n",
    "          \"Σ0\":np.array([0.5000000000, 0.5000000000, 0.0000000000]),\n",
    "          \"Σ0'\":np.array([-0.5000000000, -0.5000000000, -0.0000000000]),\n",
    "          \"T\":np.array([-0.5000000000, 0.5000000000, 0.5000000000]),\n",
    "          \"T'\":np.array([0.5000000000, -0.5000000000, -0.5000000000]),\n",
    "          \"Y\":np.array([-0.5000000000, 0.5000000000, 0.0000000000]),\n",
    "          \"Y'\":np.array([0.5000000000, -0.5000000000, -0.0000000000]),\n",
    "          \"Z\":np.array([0.0000000000, 0.0000000000, 0.5000000000]),\n",
    "          \"Z'\":np.array([-0.0000000000, -0.0000000000, -0.5000000000]),\n",
    "          }\n",
    "sbs = bztInterp.get_band_structure(kpaths,kp_lbl)\n",
    "BSPlotter(sbs).show()"
   ]
  },
  {
   "cell_type": "markdown",
   "id": "03d30c72-0044-4b0b-8342-15d73ba7e96e",
   "metadata": {},
   "source": [
    "# Compute and plot Dos"
   ]
  },
  {
   "cell_type": "code",
   "execution_count": null,
   "id": "3b74b1e3-4b95-4677-ac21-0a9a184596ad",
   "metadata": {},
   "outputs": [],
   "source": [
    "tot_dos = bztInterp.get_dos()\n",
    "len(tot_dos.energies)"
   ]
  },
  {
   "cell_type": "code",
   "execution_count": null,
   "id": "3d50ea65-9634-4e13-a6e3-32e19d6de502",
   "metadata": {},
   "outputs": [],
   "source": [
    "# set progress=True to show a progress bar\n",
    "tot_proj_dos = bztInterp.get_dos(partial_dos=True,progress=True)"
   ]
  },
  {
   "cell_type": "code",
   "execution_count": null,
   "id": "7ea2580d-e47b-4281-ab77-d1e8102ee716",
   "metadata": {},
   "outputs": [],
   "source": [
    "len(tot_proj_dos.get_spd_dos().values())"
   ]
  },
  {
   "cell_type": "code",
   "execution_count": null,
   "id": "bd327a5c-1675-4cff-bfb9-56ef2e889e08",
   "metadata": {},
   "outputs": [],
   "source": [
    "pltdos = DosPlotter(sigma=0.02)\n",
    "pltdos.add_dos_dict(tot_proj_dos.get_element_dos())\n",
    "pltdos.show()"
   ]
  },
  {
   "cell_type": "markdown",
   "id": "0546d844-b3b3-4867-a7d9-fba9c16862fb",
   "metadata": {},
   "source": [
    "# Transport Properties"
   ]
  },
  {
   "cell_type": "code",
   "execution_count": null,
   "id": "ee08dbc2-f376-4e40-8f3a-0d9ab0cbeff5",
   "metadata": {},
   "outputs": [],
   "source": [
    "bztTransp = BztTransportProperties(bztInterp,temp_r = np.arange(300,1300,300), doping=10.**np.arange(16,23), save_bztTranspProps=True,fname='bztTranspProps.json.gz')\n",
    "# bztTransp = BztTransportProperties(bztInterp,load_bztTranspProps=True,fname='bztTranspProps.json.gz')"
   ]
  },
  {
   "cell_type": "code",
   "execution_count": null,
   "id": "d1c330f2-20f4-45d7-8b27-16343629ed54",
   "metadata": {},
   "outputs": [],
   "source": [
    "print('\\t'.join(['Temp', '\\mu', 'rows', 'columns tensor']))\n",
    "for p in bztTransp.Conductivity_mu, bztTransp.Seebeck_mu, bztTransp.Kappa_mu, \\\n",
    "         bztTransp.Effective_mass_mu, bztTransp.Power_Factor_mu, bztTransp.Carrier_conc_mu:\n",
    "    print('\\t'.join([str(i) for i in p.shape]))"
   ]
  },
  {
   "cell_type": "code",
   "execution_count": null,
   "id": "c1a1b749-45e0-40df-85c7-9710237488d0",
   "metadata": {},
   "outputs": [],
   "source": [
    "bztTransp.compute_properties_doping(doping=10.**np.arange(16,23))"
   ]
  },
  {
   "cell_type": "code",
   "execution_count": null,
   "id": "3247223b-b144-43c1-a475-df32500ad197",
   "metadata": {},
   "outputs": [],
   "source": [
    "print('\\t'.join(['Temp', 'Doping', 'rows', 'columns tensor']))\n",
    "for p in bztTransp.Conductivity_doping, bztTransp.Seebeck_doping, bztTransp.Kappa_doping, \\\n",
    "         bztTransp.Carriers_conc_doping,bztTransp.Effective_mass_doping, bztTransp.Power_Factor_doping:\n",
    "    print('\\t'.join([str(i) for i in p['n'].shape]))"
   ]
  },
  {
   "cell_type": "markdown",
   "id": "4361adf3-d61d-421c-bd58-806362a8a858",
   "metadata": {},
   "source": [
    "# Plotter"
   ]
  },
  {
   "cell_type": "code",
   "execution_count": null,
   "id": "45842cbd-9bfa-4e49-bb86-a960f598f3b4",
   "metadata": {},
   "outputs": [],
   "source": [
    "bztPlotter = BztPlotter(bztTransp,bztInterp)"
   ]
  },
  {
   "cell_type": "code",
   "execution_count": null,
   "id": "4a4a6a57-4e6a-4e49-9343-75788251265f",
   "metadata": {},
   "outputs": [],
   "source": [
    "bztPlotter.plot_props('C','mu','temp')"
   ]
  },
  {
   "cell_type": "code",
   "execution_count": null,
   "id": "25ffb0bb-76d7-4107-867a-fb1f384a8fe6",
   "metadata": {},
   "outputs": [],
   "source": [
    "bztPlotter.plot_props('S','mu','temp',temps=[600,900,1200])"
   ]
  },
  {
   "cell_type": "code",
   "execution_count": null,
   "id": "af7441b3-c1ab-4a5d-b68c-c2b516616b85",
   "metadata": {},
   "outputs": [],
   "source": [
    "bztPlotter.plot_props('S','doping','temp', temps=[600,900,1200], dop_type='p').show()"
   ]
  },
  {
   "cell_type": "code",
   "execution_count": null,
   "id": "a65f0348-7210-4fe9-8137-73517214cb23",
   "metadata": {},
   "outputs": [],
   "source": [
    "bztPlotter.plot_props('S','temp','doping',doping=[1e16,1e20], dop_type='n').show()"
   ]
  },
  {
   "cell_type": "code",
   "execution_count": null,
   "id": "75b4cc31-01f9-49fc-97e4-1040683693be",
   "metadata": {},
   "outputs": [],
   "source": [
    "bztPlotter.plot_props('K','mu','temp',temps=[600,900,1200]).show()"
   ]
  },
  {
   "cell_type": "code",
   "execution_count": null,
   "id": "21bb99a8-7a64-4867-b118-579c766bbe4f",
   "metadata": {},
   "outputs": [],
   "source": [
    "bztPlotter.plot_props('H','mu','temp',temps=[600,900,1200]).show()"
   ]
  },
  {
   "cell_type": "code",
   "execution_count": null,
   "id": "52ba942d-ad24-4180-b9d5-29eece414406",
   "metadata": {},
   "outputs": [],
   "source": [
    "bztPlotter.plot_props('Po','doping','temp',temps=[600,900,1200],dop_type='p').show()"
   ]
  },
  {
   "cell_type": "code",
   "execution_count": null,
   "id": "40e575ad-2c20-4645-9fef-6fac7fb761d1",
   "metadata": {},
   "outputs": [],
   "source": [
    "bztPlotter.plot_props('E','doping','temp').show()"
   ]
  },
  {
   "cell_type": "code",
   "execution_count": null,
   "id": "9495349a-9e75-4b81-ac12-45fdd3c126e3",
   "metadata": {},
   "outputs": [],
   "source": [
    "bztPlotter.plot_props('Ca','mu','temp',temps=[600,900,1200]).show()"
   ]
  },
  {
   "cell_type": "code",
   "execution_count": null,
   "id": "8c775460-0590-4578-8877-4a9b87f00473",
   "metadata": {},
   "outputs": [],
   "source": [
    "bztPlotter.plot_bands().show()"
   ]
  },
  {
   "cell_type": "code",
   "execution_count": null,
   "id": "f35b2285-d007-4dd6-892d-add1a205066d",
   "metadata": {},
   "outputs": [],
   "source": [
    "bztPlotter.plot_dos(T=200).show()"
   ]
  },
  {
   "cell_type": "code",
   "execution_count": null,
   "id": "3346b557-8c06-4da2-b89a-823c82ab736b",
   "metadata": {},
   "outputs": [],
   "source": []
  }
 ],
 "metadata": {
  "kernelspec": {
   "display_name": "Python 3 (ipykernel)",
   "language": "python",
   "name": "python3"
  },
  "language_info": {
   "codemirror_mode": {
    "name": "ipython",
    "version": 3
   },
   "file_extension": ".py",
   "mimetype": "text/x-python",
   "name": "python",
   "nbconvert_exporter": "python",
   "pygments_lexer": "ipython3",
   "version": "3.9.16"
  }
 },
 "nbformat": 4,
 "nbformat_minor": 5
}
