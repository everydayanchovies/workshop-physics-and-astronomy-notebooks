{
 "cells": [
  {
   "cell_type": "code",
   "execution_count": 8,
   "id": "bbfbc2f1",
   "metadata": {},
   "outputs": [],
   "source": [
    "from matplotlib import pyplot as plt\n",
    "import matplotlib\n",
    "orig_mpl_backend = plt.get_backend()\n",
    "orig_mpl_backend = 'agg'\n",
    "matplotlib.use('pgf')\n",
    "plt.rcParams.update({\n",
    "    \"font.family\": \"serif\",  # use serif/main font for text elements\n",
    "    \"text.usetex\": True,     # use inline math for ticks\n",
    "    \"pgf.rcfonts\": False,    # don't setup fonts from rc parameters\n",
    "    \"pgf.preamble\": \"\\n\".join([\n",
    "         r\"\\usepackage{unicode-math}\",   # unicode math setup\n",
    "    ])\n",
    "})\n",
    "import numpy as np\n",
    "\n",
    "colors = ['#377eb8', '#ff7f00', '#4daf4a',\n",
    "           '#f781bf', '#a65628', '#984ea3',\n",
    "           '#999999', '#e41a1c', '#dede00']\n",
    "\n",
    "linestyles = [\n",
    "    ('solid', 'solid'),      # Same as (0, ()) or '-'\n",
    "     ('dotted', 'dotted'),    # Same as (0, (1, 1)) or ':'\n",
    "     ('dashed', 'dashed'),    # Same as '--'\n",
    "     ('dashdot', 'dashdot'),  # Same as '-.'\n",
    "     ('long dash with offset', (5, (10, 3))),\n",
    "     ('densely dashed',        (0, (5, 1))),\n",
    "\n",
    "     ('densely dashdotted',    (0, (3, 1, 1, 1))),\n",
    "\n",
    "     ('dashdotdotted',         (0, (3, 5, 1, 5, 1, 5))),\n",
    "     ('loosely dashdotdotted', (0, (3, 10, 1, 10, 1, 10))),\n",
    "     ('densely dashdotdotted', (0, (3, 1, 1, 1, 1, 1)))]\n",
    "\n",
    "markers = ['o', 'v', 's',\n",
    "          'X', 'd', '*',\n",
    "          'x', 'P', '2']"
   ]
  },
  {
   "cell_type": "code",
   "execution_count": 2,
   "id": "2885649c",
   "metadata": {},
   "outputs": [],
   "source": [
    "mosi2_pris = -1251.78\n",
    "mo3si2_pris = -1438.90\n",
    "mosi2_def = [-1241.456489, -1254.383656, -1238.005495, -1245.647187]  \n",
    "mo3si2_def  = [-1431.945253, -1442.403585, -1427.187066, -1431.816256]\n",
    "chempot_mo = -10.94\n",
    "chempot_si = -5.42"
   ]
  },
  {
   "cell_type": "code",
   "execution_count": 3,
   "id": "1c536ac7",
   "metadata": {},
   "outputs": [],
   "source": [
    "Edef_mosi2_simo = -1241.456489 + 5.42 - 10.94 + 1251.78\n",
    "Edef_mosi2_mosi = -1254.383656 - 5.42 + 10.94 + 1251.78\n",
    "Edef_mosi2_vmo = -1238.005495 + 10.94 + 1251.78\n",
    "Edef_mosi2_vsi = -1245.647187 + 5.42 + 1251.78\n",
    "\n",
    "Edef_mo3si2_simo = -1431.945253 + 5.42 - 10.94 + 1438.90\n",
    "Edef_mo3si2_mosi = -1442.403585 - 5.42 + 10.94 + 1438.90\n",
    "Edef_mo3si2_vmo = -1427.187066 + 10.94 + 1438.90\n",
    "Edef_mo3si2_vsi = -1431.816256 + 5.42 + 1438.90\n",
    "\n"
   ]
  },
  {
   "cell_type": "code",
   "execution_count": 4,
   "id": "fbdf4608",
   "metadata": {},
   "outputs": [
    {
     "data": {
      "text/plain": [
       "11.552813000000015"
      ]
     },
     "execution_count": 4,
     "metadata": {},
     "output_type": "execute_result"
    }
   ],
   "source": [
    "Edef_mosi2_vsi"
   ]
  },
  {
   "cell_type": "code",
   "execution_count": 5,
   "id": "98f743c7",
   "metadata": {},
   "outputs": [],
   "source": [
    "t_arr = np.arange(300, 2000)\n",
    "def concentration(Edefect, temps):\n",
    "    return np.e**(-Edefect / (temps * 8.617e-5))"
   ]
  },
  {
   "cell_type": "code",
   "execution_count": 12,
   "id": "46315f76",
   "metadata": {},
   "outputs": [
    {
     "name": "stderr",
     "output_type": "stream",
     "text": [
      "/var/folders/m4/knwgm_vs3jq1dk2dg5vr99f00000gn/T/ipykernel_57037/2877825786.py:13: UserWarning: Matplotlib is currently using pgf, which is a non-GUI backend, so cannot show the figure.\n",
      "  plt.show()\n"
     ]
    }
   ],
   "source": [
    "plt.figure(figsize=(10, 6))\n",
    "matplotlib.use('pgf')\n",
    "plt.plot(t_arr, concentration(Edef_mosi2_mosi, t_arr), label=\"MoSi2_MoSi\", linestyle=linestyles[0][1], color=colors[0], marker=markers[0], markevery=200)\n",
    "plt.plot(t_arr, concentration(Edef_mosi2_simo, t_arr), label=\"MoSi2_SiMo\", linestyle=linestyles[1][1], color=colors[1], marker=markers[1], markevery=200)\n",
    "plt.plot(t_arr, concentration(Edef_mosi2_vmo, t_arr), label=\"MoSi2_VMo\", linestyle=linestyles[2][1], color=colors[2], marker=markers[2], markevery=200)\n",
    "plt.plot(t_arr, concentration(Edef_mosi2_vsi, t_arr), label=\"MoSi2_VSi\", linestyle=linestyles[3][1], color=colors[3], marker=markers[3], markevery=200)\n",
    "plt.legend()\n",
    "plt.xlabel(\"T (K)\") \n",
    "plt.ylabel(\"Concentration (mol defects / mol)\")\n",
    "plt.yscale(\"log\")\n",
    "plt.xlim(300, 2000)\n",
    "plt.savefig(\"mosi2defects.pdf\", format=\"pdf\", backend='pgf', bbox_inches=\"tight\")\n",
    "plt.show()"
   ]
  },
  {
   "cell_type": "code",
   "execution_count": 7,
   "id": "9ac324d8",
   "metadata": {},
   "outputs": [
    {
     "name": "stderr",
     "output_type": "stream",
     "text": [
      "/var/folders/m4/knwgm_vs3jq1dk2dg5vr99f00000gn/T/ipykernel_57037/65169815.py:11: UserWarning: Matplotlib is currently using pgf, which is a non-GUI backend, so cannot show the figure.\n",
      "  plt.show()\n"
     ]
    }
   ],
   "source": [
    "plt.figure(figsize=(10, 6))\n",
    "matplotlib.use('pgf')\n",
    "plt.plot(t_arr, concentration(Edef_mo3si2_mosi, t_arr), label=\"Mo3Si2_MoSi\", linestyle=linestyles[0][1], color=colors[0], marker=markers[0], markevery=200)\n",
    "plt.plot(t_arr, concentration(Edef_mo3si2_simo, t_arr), label=\"Mo3Si2_SiMo\", linestyle=linestyles[1][1], color=colors[1], marker=markers[1], markevery=200)\n",
    "plt.plot(t_arr, concentration(Edef_mo3si2_vmo, t_arr), label=\"Mo3Si2_VMo\", linestyle=linestyles[2][1], color=colors[2], marker=markers[2], markevery=200)\n",
    "plt.plot(t_arr, concentration(Edef_mo3si2_vsi, t_arr), label=\"Mo3Si2_VSi\", linestyle=linestyles[3][1], color=colors[3], marker=markers[3], markevery=200)\n",
    "plt.legend()\n",
    "plt.xlabel(\"T (K)\") \n",
    "plt.ylabel(\"Concentration (numerical ratio)\")\n",
    "plt.yscale(\"log\")\n",
    "plt.xlim(300, 2000)\n",
    "plt.savefig(\"mo3si2defects.pdf\", format=\"pdf\", backend='pgf', bbox_inches=\"tight\")\n",
    "plt.show()"
   ]
  },
  {
   "cell_type": "code",
   "execution_count": null,
   "id": "cc77045c",
   "metadata": {},
   "outputs": [],
   "source": []
  },
  {
   "cell_type": "code",
   "execution_count": null,
   "id": "52d536e2",
   "metadata": {},
   "outputs": [],
   "source": []
  }
 ],
 "metadata": {
  "kernelspec": {
   "display_name": "Python 3 (ipykernel)",
   "language": "python",
   "name": "python3"
  },
  "language_info": {
   "codemirror_mode": {
    "name": "ipython",
    "version": 3
   },
   "file_extension": ".py",
   "mimetype": "text/x-python",
   "name": "python",
   "nbconvert_exporter": "python",
   "pygments_lexer": "ipython3",
   "version": "3.9.16"
  }
 },
 "nbformat": 4,
 "nbformat_minor": 5
}
