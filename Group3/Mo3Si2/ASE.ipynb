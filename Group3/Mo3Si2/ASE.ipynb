{
 "cells": [
  {
   "cell_type": "code",
   "execution_count": 1,
   "id": "ddd51966-3857-423e-9208-e3ab4f683cce",
   "metadata": {},
   "outputs": [
    {
     "name": "stdout",
     "output_type": "stream",
     "text": [
      "ASE notebook\n"
     ]
    }
   ],
   "source": [
    "print(\"ASE notebook\")"
   ]
  },
  {
   "cell_type": "code",
   "execution_count": 2,
   "id": "7f2a0b8d-c32b-4186-a539-9415374644cb",
   "metadata": {},
   "outputs": [],
   "source": [
    "%notebook inline"
   ]
  },
  {
   "cell_type": "code",
   "execution_count": 5,
   "id": "30054ebb-ac29-45e6-9a66-f0e6c09cf00e",
   "metadata": {},
   "outputs": [],
   "source": [
    "from ase import Atoms\n",
    "from ase.calculators.emt import EMT\n",
    "from ase.constraints import FixAtoms\n",
    "from ase.optimize import QuasiNewton\n",
    "from ase.build import fcc111, add_adsorbate\n",
    "from ase.io import read\n",
    "from ase.visualize import view"
   ]
  },
  {
   "cell_type": "code",
   "execution_count": 12,
   "id": "0496de5d-b69a-49fe-8aaa-b6b2c0ae184b",
   "metadata": {},
   "outputs": [
    {
     "data": {
      "text/plain": [
       "Atoms(symbols='Si4Mo6', pbc=True, cell=[6.6247131510051025, 6.6247131510051025, 3.2954537498548073])"
      ]
     },
     "execution_count": 12,
     "metadata": {},
     "output_type": "execute_result"
    }
   ],
   "source": [
    "atoms = read(\"CONTCAR\")"
   ]
  },
  {
   "cell_type": "code",
   "execution_count": 24,
   "id": "a9980566-5023-4576-bc67-6493010065dd",
   "metadata": {},
   "outputs": [
    {
     "data": {
      "text/plain": [
       "array([[0.88469871, 4.19705529, 0.        ],\n",
       "       [5.74001444, 2.42765787, 0.        ],\n",
       "       [4.19705529, 5.74001444, 0.        ],\n",
       "       [2.42765787, 0.88469871, 0.        ],\n",
       "       [3.31235658, 3.31235658, 0.        ],\n",
       "       [0.        , 0.        , 0.        ],\n",
       "       [4.38511952, 1.07276295, 1.64772687],\n",
       "       [2.23959363, 5.5519502 , 1.64772687],\n",
       "       [1.07276295, 2.23959363, 1.64772687],\n",
       "       [5.5519502 , 4.38511952, 1.64772687]])"
      ]
     },
     "execution_count": 24,
     "metadata": {},
     "output_type": "execute_result"
    }
   ],
   "source": [
    "atoms.get_positions()"
   ]
  },
  {
   "cell_type": "code",
   "execution_count": 21,
   "id": "485d8447-075c-4cce-8a4f-a6321d1667fa",
   "metadata": {},
   "outputs": [
    {
     "data": {
      "text/plain": [
       "<Popen: returncode: None args: ['/Users/max/opt/anaconda3/envs/boltztrap2/bi...>"
      ]
     },
     "execution_count": 21,
     "metadata": {},
     "output_type": "execute_result"
    }
   ],
   "source": [
    "# view(atoms)"
   ]
  },
  {
   "cell_type": "code",
   "execution_count": 18,
   "id": "aa59b0e9-bf6b-4140-a947-3e43bf9a7dd5",
   "metadata": {},
   "outputs": [
    {
     "data": {
      "text/plain": [
       "array([[0.        , 5.16767434, 3.65409757, 3.65409757, 2.58383717,\n",
       "        4.28928489, 4.97284148, 2.52714945, 2.56554637, 4.95314128],\n",
       "       [5.16767434, 0.        , 3.65409757, 3.65409757, 2.58383717,\n",
       "        6.23227795, 2.52714945, 4.97284148, 4.95314128, 2.56554637],\n",
       "       [3.65409757, 3.65409757, 0.        , 5.16767434, 2.58383717,\n",
       "        7.11076922, 4.95314128, 2.56554637, 4.97284148, 2.52714945],\n",
       "       [3.65409757, 3.65409757, 5.16767434, 0.        , 2.58383717,\n",
       "        2.58383717, 2.56554637, 4.95314128, 2.52714945, 4.97284148],\n",
       "       [2.58383717, 2.58383717, 2.58383717, 2.58383717, 0.        ,\n",
       "        4.68437959, 2.98020198, 2.98020198, 2.98020198, 2.98020198],\n",
       "       [4.28928489, 6.23227795, 7.11076922, 2.58383717, 4.68437959,\n",
       "        0.        , 4.80573589, 6.209262  , 2.98020198, 7.26418806],\n",
       "       [4.97284148, 2.52714945, 4.95314128, 2.56554637, 2.98020198,\n",
       "        4.80573589, 0.        , 4.96652795, 3.51186559, 3.51186559],\n",
       "       [2.52714945, 4.97284148, 2.56554637, 4.95314128, 2.98020198,\n",
       "        6.209262  , 4.96652795, 0.        , 3.51186559, 3.51186559],\n",
       "       [2.56554637, 4.95314128, 4.97284148, 2.52714945, 2.98020198,\n",
       "        2.98020198, 3.51186559, 3.51186559, 0.        , 4.96652795],\n",
       "       [4.95314128, 2.56554637, 2.52714945, 4.97284148, 2.98020198,\n",
       "        7.26418806, 3.51186559, 3.51186559, 4.96652795, 0.        ]])"
      ]
     },
     "execution_count": 18,
     "metadata": {},
     "output_type": "execute_result"
    }
   ],
   "source": [
    "# Return distances of all of the atoms with all of the atoms.\n",
    "# Probably an adjacancy matrix\n",
    "atoms.get_all_distances(mic=False, vector=False)"
   ]
  },
  {
   "cell_type": "code",
   "execution_count": 25,
   "id": "ee1540f4-7768-4d00-abe6-9dd4b5a04067",
   "metadata": {},
   "outputs": [
    {
     "data": {
      "text/plain": [
       "45.00000000000001"
      ]
     },
     "execution_count": 25,
     "metadata": {},
     "output_type": "execute_result"
    }
   ],
   "source": [
    "# Calculate angle in degrees between vectors between atoms a2->a1 and a2->a3, where a1, a2, and a3 are in each row of indices.\n",
    "# Use mic=True to use the Minimum Image Convention and calculate the angle across periodic boundaries.\n",
    "print(atoms.get_angle(0, 1, 2, mic=False))"
   ]
  },
  {
   "cell_type": "code",
   "execution_count": 26,
   "id": "cdf8a1f4-1010-4a96-9942-836b81d4d8c6",
   "metadata": {},
   "outputs": [
    {
     "data": {
      "text/plain": [
       "5.167674339137986"
      ]
     },
     "execution_count": 26,
     "metadata": {},
     "output_type": "execute_result"
    }
   ],
   "source": [
    "# Bond length\n",
    "atoms.get_distance(0, 1)"
   ]
  },
  {
   "cell_type": "code",
   "execution_count": null,
   "id": "8096c51c-9343-4a0d-9437-e6e42e4bad00",
   "metadata": {},
   "outputs": [],
   "source": []
  }
 ],
 "metadata": {
  "kernelspec": {
   "display_name": "Python 3 (ipykernel)",
   "language": "python",
   "name": "python3"
  },
  "language_info": {
   "codemirror_mode": {
    "name": "ipython",
    "version": 3
   },
   "file_extension": ".py",
   "mimetype": "text/x-python",
   "name": "python",
   "nbconvert_exporter": "python",
   "pygments_lexer": "ipython3",
   "version": "3.9.16"
  }
 },
 "nbformat": 4,
 "nbformat_minor": 5
}
